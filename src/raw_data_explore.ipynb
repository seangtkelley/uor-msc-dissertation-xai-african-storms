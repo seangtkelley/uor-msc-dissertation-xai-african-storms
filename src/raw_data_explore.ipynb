{
 "cells": [
  {
   "cell_type": "code",
   "execution_count": 2,
   "id": "1a6c1b85",
   "metadata": {},
   "outputs": [],
   "source": [
    "import pandas as pd\n",
    "\n",
    "import config"
   ]
  },
  {
   "cell_type": "code",
   "execution_count": 47,
   "id": "b3e3fcf3",
   "metadata": {},
   "outputs": [],
   "source": [
    "raw_df = pd.read_csv(config.RAW_STORM_DB_PATH)"
   ]
  },
  {
   "cell_type": "code",
   "execution_count": null,
   "id": "ab0f67d3",
   "metadata": {},
   "outputs": [
    {
     "data": {
      "text/plain": [
       "Index(['Storm', 'Life', 'Area', 'Initial UTC', 'Lon', 'Lat', 'Parent', 'Child',\n",
       "       'Accreted', 'u', 'v', 'in_gha', 'gpm_mean', 'gpm_max', 'gpm_frac',\n",
       "       'gpm_perc90', 'Min BT', 'Mean BT', 'Final UTC', 'timestamp',\n",
       "       'mjo_amplitude', 'mjo_phase', 'rmm1', 'rmm2', 'lst', 'u_ms', 'v_ms',\n",
       "       'LonInBounds', 'LatInBounds', 'in_domain', 'areaxgpm_mean', 'duration',\n",
       "       'duration_hr', 'speed', 'mean_speed', 'east_africa_time', 'eat_hours'],\n",
       "      dtype='object')"
      ]
     },
     "execution_count": 3,
     "metadata": {},
     "output_type": "execute_result"
    },
    {
     "ename": "",
     "evalue": "",
     "output_type": "error",
     "traceback": [
      "\u001b[1;31mnotebook controller is DISPOSED. \n",
      "\u001b[1;31mView Jupyter <a href='command:jupyter.viewOutput'>log</a> for further details."
     ]
    },
    {
     "ename": "",
     "evalue": "",
     "output_type": "error",
     "traceback": [
      "\u001b[1;31mnotebook controller is DISPOSED. \n",
      "\u001b[1;31mView Jupyter <a href='command:jupyter.viewOutput'>log</a> for further details."
     ]
    }
   ],
   "source": [
    "raw_df.columns"
   ]
  },
  {
   "cell_type": "code",
   "execution_count": null,
   "id": "5324010c",
   "metadata": {},
   "outputs": [
    {
     "data": {
      "text/html": [
       "<div>\n",
       "<style scoped>\n",
       "    .dataframe tbody tr th:only-of-type {\n",
       "        vertical-align: middle;\n",
       "    }\n",
       "\n",
       "    .dataframe tbody tr th {\n",
       "        vertical-align: top;\n",
       "    }\n",
       "\n",
       "    .dataframe thead th {\n",
       "        text-align: right;\n",
       "    }\n",
       "</style>\n",
       "<table border=\"1\" class=\"dataframe\">\n",
       "  <thead>\n",
       "    <tr style=\"text-align: right;\">\n",
       "      <th></th>\n",
       "      <th>Initial UTC</th>\n",
       "      <th>Final UTC</th>\n",
       "      <th>timestamp</th>\n",
       "      <th>east_africa_time</th>\n",
       "    </tr>\n",
       "  </thead>\n",
       "  <tbody>\n",
       "    <tr>\n",
       "      <th>0</th>\n",
       "      <td>2014-01-02 14:15:00</td>\n",
       "      <td>2014-01-02 17:30:00</td>\n",
       "      <td>2014-01-02 14:15:00</td>\n",
       "      <td>2014-01-02 17:15:00</td>\n",
       "    </tr>\n",
       "    <tr>\n",
       "      <th>1</th>\n",
       "      <td>2014-01-02 14:15:00</td>\n",
       "      <td>2014-01-02 17:30:00</td>\n",
       "      <td>2014-01-02 14:30:00</td>\n",
       "      <td>2014-01-02 17:30:00</td>\n",
       "    </tr>\n",
       "    <tr>\n",
       "      <th>2</th>\n",
       "      <td>2014-01-02 14:15:00</td>\n",
       "      <td>2014-01-02 17:30:00</td>\n",
       "      <td>2014-01-02 14:45:00</td>\n",
       "      <td>2014-01-02 17:45:00</td>\n",
       "    </tr>\n",
       "    <tr>\n",
       "      <th>3</th>\n",
       "      <td>2014-01-02 14:15:00</td>\n",
       "      <td>2014-01-02 17:30:00</td>\n",
       "      <td>2014-01-02 15:00:00</td>\n",
       "      <td>2014-01-02 18:00:00</td>\n",
       "    </tr>\n",
       "    <tr>\n",
       "      <th>4</th>\n",
       "      <td>2014-01-02 14:15:00</td>\n",
       "      <td>2014-01-02 17:30:00</td>\n",
       "      <td>2014-01-02 15:15:00</td>\n",
       "      <td>2014-01-02 18:15:00</td>\n",
       "    </tr>\n",
       "  </tbody>\n",
       "</table>\n",
       "</div>"
      ],
      "text/plain": [
       "           Initial UTC            Final UTC            timestamp  \\\n",
       "0  2014-01-02 14:15:00  2014-01-02 17:30:00  2014-01-02 14:15:00   \n",
       "1  2014-01-02 14:15:00  2014-01-02 17:30:00  2014-01-02 14:30:00   \n",
       "2  2014-01-02 14:15:00  2014-01-02 17:30:00  2014-01-02 14:45:00   \n",
       "3  2014-01-02 14:15:00  2014-01-02 17:30:00  2014-01-02 15:00:00   \n",
       "4  2014-01-02 14:15:00  2014-01-02 17:30:00  2014-01-02 15:15:00   \n",
       "\n",
       "      east_africa_time  \n",
       "0  2014-01-02 17:15:00  \n",
       "1  2014-01-02 17:30:00  \n",
       "2  2014-01-02 17:45:00  \n",
       "3  2014-01-02 18:00:00  \n",
       "4  2014-01-02 18:15:00  "
      ]
     },
     "execution_count": 4,
     "metadata": {},
     "output_type": "execute_result"
    },
    {
     "ename": "",
     "evalue": "",
     "output_type": "error",
     "traceback": [
      "\u001b[1;31mnotebook controller is DISPOSED. \n",
      "\u001b[1;31mView Jupyter <a href='command:jupyter.viewOutput'>log</a> for further details."
     ]
    }
   ],
   "source": [
    "raw_df[[\"Initial UTC\", \"Final UTC\", \"timestamp\", \"east_africa_time\"]].head()"
   ]
  },
  {
   "cell_type": "code",
   "execution_count": null,
   "id": "48966325",
   "metadata": {},
   "outputs": [
    {
     "name": "stdout",
     "output_type": "stream",
     "text": [
      "<class 'pandas.core.frame.DataFrame'>\n",
      "RangeIndex: 588915 entries, 0 to 588914\n",
      "Data columns (total 37 columns):\n",
      " #   Column            Non-Null Count   Dtype  \n",
      "---  ------            --------------   -----  \n",
      " 0   Storm             588915 non-null  int64  \n",
      " 1   Life              588915 non-null  int64  \n",
      " 2   Area              588915 non-null  int64  \n",
      " 3   Initial UTC       588915 non-null  object \n",
      " 4   Lon               588915 non-null  float64\n",
      " 5   Lat               588915 non-null  float64\n",
      " 6   Parent            588915 non-null  object \n",
      " 7   Child             588915 non-null  object \n",
      " 8   Accreted          588915 non-null  object \n",
      " 9   u                 588915 non-null  float64\n",
      " 10  v                 588915 non-null  float64\n",
      " 11  in_gha            588915 non-null  bool   \n",
      " 12  gpm_mean          151233 non-null  float64\n",
      " 13  gpm_max           151233 non-null  float64\n",
      " 14  gpm_frac          151233 non-null  float64\n",
      " 15  gpm_perc90        151233 non-null  float64\n",
      " 16  Min BT            588915 non-null  float64\n",
      " 17  Mean BT           588915 non-null  float64\n",
      " 18  Final UTC         588915 non-null  object \n",
      " 19  timestamp         588915 non-null  object \n",
      " 20  mjo_amplitude     588915 non-null  float64\n",
      " 21  mjo_phase         588915 non-null  int64  \n",
      " 22  rmm1              588915 non-null  float64\n",
      " 23  rmm2              588915 non-null  float64\n",
      " 24  lst               588915 non-null  float64\n",
      " 25  u_ms              588915 non-null  float64\n",
      " 26  v_ms              588915 non-null  float64\n",
      " 27  LonInBounds       588915 non-null  bool   \n",
      " 28  LatInBounds       588915 non-null  bool   \n",
      " 29  in_domain         588915 non-null  bool   \n",
      " 30  areaxgpm_mean     151233 non-null  float64\n",
      " 31  duration          588915 non-null  object \n",
      " 32  duration_hr       588915 non-null  float64\n",
      " 33  speed             588915 non-null  float64\n",
      " 34  mean_speed        588915 non-null  float64\n",
      " 35  east_africa_time  588915 non-null  object \n",
      " 36  eat_hours         588915 non-null  float64\n",
      "dtypes: bool(4), float64(21), int64(4), object(8)\n",
      "memory usage: 150.5+ MB\n"
     ]
    },
    {
     "ename": "",
     "evalue": "",
     "output_type": "error",
     "traceback": [
      "\u001b[1;31mnotebook controller is DISPOSED. \n",
      "\u001b[1;31mView Jupyter <a href='command:jupyter.viewOutput'>log</a> for further details."
     ]
    }
   ],
   "source": [
    "raw_df.info()"
   ]
  },
  {
   "cell_type": "code",
   "execution_count": null,
   "id": "65f80841",
   "metadata": {},
   "outputs": [
    {
     "data": {
      "text/plain": [
       "np.float64(0.7432006316701052)"
      ]
     },
     "execution_count": 6,
     "metadata": {},
     "output_type": "execute_result"
    },
    {
     "ename": "",
     "evalue": "",
     "output_type": "error",
     "traceback": [
      "\u001b[1;31mnotebook controller is DISPOSED. \n",
      "\u001b[1;31mView Jupyter <a href='command:jupyter.viewOutput'>log</a> for further details."
     ]
    }
   ],
   "source": [
    "raw_df[\"gpm_mean\"].isna().sum() / raw_df.shape[0]"
   ]
  },
  {
   "cell_type": "code",
   "execution_count": 4,
   "id": "a215db8e",
   "metadata": {},
   "outputs": [],
   "source": [
    "processed_df = pd.read_csv(\n",
    "    config.PROCESSED_DATASET_PATH, parse_dates=[\"timestamp\"]\n",
    ")"
   ]
  },
  {
   "cell_type": "code",
   "execution_count": null,
   "id": "0df3e0e2",
   "metadata": {},
   "outputs": [
    {
     "ename": "",
     "evalue": "",
     "output_type": "error",
     "traceback": [
      "\u001b[1;31mnotebook controller is DISPOSED. \n",
      "\u001b[1;31mView Jupyter <a href='command:jupyter.viewOutput'>log</a> for further details."
     ]
    }
   ],
   "source": [
    "raw_df[\"timestamp\"] = pd.to_datetime(raw_df[\"timestamp\"])"
   ]
  },
  {
   "cell_type": "code",
   "execution_count": null,
   "id": "0f7527b5",
   "metadata": {},
   "outputs": [
    {
     "ename": "",
     "evalue": "",
     "output_type": "error",
     "traceback": [
      "\u001b[1;31mnotebook controller is DISPOSED. \n",
      "\u001b[1;31mView Jupyter <a href='command:jupyter.viewOutput'>log</a> for further details."
     ]
    }
   ],
   "source": [
    "# comparison_df = raw_df.merge(\n",
    "#     processed_df,\n",
    "#     left_on=[\"timestamp\"],\n",
    "#     right_on=[\"timestamp\"],\n",
    "#     how=\"inner\",\n",
    "# )"
   ]
  },
  {
   "cell_type": "code",
   "execution_count": null,
   "id": "3e953863",
   "metadata": {},
   "outputs": [
    {
     "ename": "",
     "evalue": "",
     "output_type": "error",
     "traceback": [
      "\u001b[1;31mnotebook controller is DISPOSED. \n",
      "\u001b[1;31mView Jupyter <a href='command:jupyter.viewOutput'>log</a> for further details."
     ]
    }
   ],
   "source": [
    "# comparison_df[\n",
    "#     [\"timestamp\", \"gpm_mean\", \"areaxgpm_mean\", \"mean_prcp_400\"]\n",
    "# ].head()"
   ]
  },
  {
   "cell_type": "code",
   "execution_count": null,
   "id": "6249dae7",
   "metadata": {},
   "outputs": [
    {
     "ename": "",
     "evalue": "",
     "output_type": "error",
     "traceback": [
      "\u001b[1;31mnotebook controller is DISPOSED. \n",
      "\u001b[1;31mView Jupyter <a href='command:jupyter.viewOutput'>log</a> for further details."
     ]
    }
   ],
   "source": [
    "# comparison_df[[\"gpm_mean\", \"areaxgpm_mean\", \"mean_prcp_400\"]].describe()"
   ]
  },
  {
   "cell_type": "code",
   "execution_count": 6,
   "id": "6b665343",
   "metadata": {},
   "outputs": [
    {
     "data": {
      "text/html": [
       "<div>\n",
       "<style scoped>\n",
       "    .dataframe tbody tr th:only-of-type {\n",
       "        vertical-align: middle;\n",
       "    }\n",
       "\n",
       "    .dataframe tbody tr th {\n",
       "        vertical-align: top;\n",
       "    }\n",
       "\n",
       "    .dataframe thead th {\n",
       "        text-align: right;\n",
       "    }\n",
       "</style>\n",
       "<table border=\"1\" class=\"dataframe\">\n",
       "  <thead>\n",
       "    <tr style=\"text-align: right;\">\n",
       "      <th></th>\n",
       "      <th>mean_u850</th>\n",
       "      <th>mean_u500</th>\n",
       "      <th>mean_u200</th>\n",
       "      <th>mean_v850</th>\n",
       "      <th>mean_v500</th>\n",
       "      <th>mean_v200</th>\n",
       "      <th>mean_u_shear_850_500</th>\n",
       "      <th>mean_v_shear_850_500</th>\n",
       "      <th>mean_u_shear_850_200</th>\n",
       "      <th>mean_v_shear_850_200</th>\n",
       "    </tr>\n",
       "  </thead>\n",
       "  <tbody>\n",
       "    <tr>\n",
       "      <th>count</th>\n",
       "      <td>588915.000000</td>\n",
       "      <td>588915.000000</td>\n",
       "      <td>588915.000000</td>\n",
       "      <td>588915.000000</td>\n",
       "      <td>588915.000000</td>\n",
       "      <td>588915.000000</td>\n",
       "      <td>588915.000000</td>\n",
       "      <td>588915.000000</td>\n",
       "      <td>588915.000000</td>\n",
       "      <td>588915.000000</td>\n",
       "    </tr>\n",
       "    <tr>\n",
       "      <th>mean</th>\n",
       "      <td>0.076921</td>\n",
       "      <td>-4.630917</td>\n",
       "      <td>-6.249896</td>\n",
       "      <td>1.187710</td>\n",
       "      <td>-1.522201</td>\n",
       "      <td>0.262749</td>\n",
       "      <td>-4.707838</td>\n",
       "      <td>-2.709911</td>\n",
       "      <td>-6.326817</td>\n",
       "      <td>-0.924961</td>\n",
       "    </tr>\n",
       "    <tr>\n",
       "      <th>std</th>\n",
       "      <td>2.960880</td>\n",
       "      <td>3.332656</td>\n",
       "      <td>9.879332</td>\n",
       "      <td>2.167353</td>\n",
       "      <td>2.132746</td>\n",
       "      <td>3.943631</td>\n",
       "      <td>4.101778</td>\n",
       "      <td>3.201645</td>\n",
       "      <td>11.454111</td>\n",
       "      <td>4.871262</td>\n",
       "    </tr>\n",
       "    <tr>\n",
       "      <th>min</th>\n",
       "      <td>-11.622867</td>\n",
       "      <td>-18.800264</td>\n",
       "      <td>-36.009590</td>\n",
       "      <td>-10.640975</td>\n",
       "      <td>-11.489190</td>\n",
       "      <td>-19.018194</td>\n",
       "      <td>-22.358397</td>\n",
       "      <td>-23.217394</td>\n",
       "      <td>-50.491158</td>\n",
       "      <td>-21.982794</td>\n",
       "    </tr>\n",
       "    <tr>\n",
       "      <th>25%</th>\n",
       "      <td>-1.538653</td>\n",
       "      <td>-6.830729</td>\n",
       "      <td>-13.503547</td>\n",
       "      <td>0.017006</td>\n",
       "      <td>-2.917770</td>\n",
       "      <td>-2.277809</td>\n",
       "      <td>-7.432822</td>\n",
       "      <td>-4.551898</td>\n",
       "      <td>-14.732636</td>\n",
       "      <td>-4.063760</td>\n",
       "    </tr>\n",
       "    <tr>\n",
       "      <th>50%</th>\n",
       "      <td>-0.063162</td>\n",
       "      <td>-4.782898</td>\n",
       "      <td>-6.241522</td>\n",
       "      <td>1.063729</td>\n",
       "      <td>-1.542419</td>\n",
       "      <td>0.113968</td>\n",
       "      <td>-4.773699</td>\n",
       "      <td>-2.598404</td>\n",
       "      <td>-6.003793</td>\n",
       "      <td>-1.108661</td>\n",
       "    </tr>\n",
       "    <tr>\n",
       "      <th>75%</th>\n",
       "      <td>1.249431</td>\n",
       "      <td>-2.573395</td>\n",
       "      <td>0.099753</td>\n",
       "      <td>2.215642</td>\n",
       "      <td>-0.159273</td>\n",
       "      <td>2.585159</td>\n",
       "      <td>-2.119585</td>\n",
       "      <td>-0.742230</td>\n",
       "      <td>1.287103</td>\n",
       "      <td>1.898399</td>\n",
       "    </tr>\n",
       "    <tr>\n",
       "      <th>max</th>\n",
       "      <td>18.830683</td>\n",
       "      <td>10.888374</td>\n",
       "      <td>36.084953</td>\n",
       "      <td>16.899387</td>\n",
       "      <td>10.305723</td>\n",
       "      <td>26.373779</td>\n",
       "      <td>15.218797</td>\n",
       "      <td>13.737514</td>\n",
       "      <td>38.593628</td>\n",
       "      <td>28.478954</td>\n",
       "    </tr>\n",
       "  </tbody>\n",
       "</table>\n",
       "</div>"
      ],
      "text/plain": [
       "           mean_u850      mean_u500      mean_u200      mean_v850  \\\n",
       "count  588915.000000  588915.000000  588915.000000  588915.000000   \n",
       "mean        0.076921      -4.630917      -6.249896       1.187710   \n",
       "std         2.960880       3.332656       9.879332       2.167353   \n",
       "min       -11.622867     -18.800264     -36.009590     -10.640975   \n",
       "25%        -1.538653      -6.830729     -13.503547       0.017006   \n",
       "50%        -0.063162      -4.782898      -6.241522       1.063729   \n",
       "75%         1.249431      -2.573395       0.099753       2.215642   \n",
       "max        18.830683      10.888374      36.084953      16.899387   \n",
       "\n",
       "           mean_v500      mean_v200  mean_u_shear_850_500  \\\n",
       "count  588915.000000  588915.000000         588915.000000   \n",
       "mean       -1.522201       0.262749             -4.707838   \n",
       "std         2.132746       3.943631              4.101778   \n",
       "min       -11.489190     -19.018194            -22.358397   \n",
       "25%        -2.917770      -2.277809             -7.432822   \n",
       "50%        -1.542419       0.113968             -4.773699   \n",
       "75%        -0.159273       2.585159             -2.119585   \n",
       "max        10.305723      26.373779             15.218797   \n",
       "\n",
       "       mean_v_shear_850_500  mean_u_shear_850_200  mean_v_shear_850_200  \n",
       "count         588915.000000         588915.000000         588915.000000  \n",
       "mean              -2.709911             -6.326817             -0.924961  \n",
       "std                3.201645             11.454111              4.871262  \n",
       "min              -23.217394            -50.491158            -21.982794  \n",
       "25%               -4.551898            -14.732636             -4.063760  \n",
       "50%               -2.598404             -6.003793             -1.108661  \n",
       "75%               -0.742230              1.287103              1.898399  \n",
       "max               13.737514             38.593628             28.478954  "
      ]
     },
     "execution_count": 6,
     "metadata": {},
     "output_type": "execute_result"
    }
   ],
   "source": [
    "processed_df[\n",
    "    [\n",
    "        \"mean_u850\",\n",
    "        \"mean_u500\",\n",
    "        \"mean_u200\",\n",
    "        \"mean_v850\",\n",
    "        \"mean_v500\",\n",
    "        \"mean_v200\",\n",
    "        \"mean_u_shear_850_500\",\n",
    "        \"mean_v_shear_850_500\",\n",
    "        \"mean_u_shear_850_200\",\n",
    "        \"mean_v_shear_850_200\",\n",
    "    ]\n",
    "].describe()"
   ]
  },
  {
   "cell_type": "code",
   "execution_count": 49,
   "id": "1c8b0cae",
   "metadata": {},
   "outputs": [
    {
     "data": {
      "text/html": [
       "<div>\n",
       "<style scoped>\n",
       "    .dataframe tbody tr th:only-of-type {\n",
       "        vertical-align: middle;\n",
       "    }\n",
       "\n",
       "    .dataframe tbody tr th {\n",
       "        vertical-align: top;\n",
       "    }\n",
       "\n",
       "    .dataframe thead th {\n",
       "        text-align: right;\n",
       "    }\n",
       "</style>\n",
       "<table border=\"1\" class=\"dataframe\">\n",
       "  <thead>\n",
       "    <tr style=\"text-align: right;\">\n",
       "      <th></th>\n",
       "      <th>anor</th>\n",
       "      <th>upslope_bearing</th>\n",
       "      <th>slope_angle</th>\n",
       "      <th>wind_direction</th>\n",
       "      <th>wind_angle_upslope</th>\n",
       "    </tr>\n",
       "  </thead>\n",
       "  <tbody>\n",
       "    <tr>\n",
       "      <th>count</th>\n",
       "      <td>588915.000000</td>\n",
       "      <td>588915.000000</td>\n",
       "      <td>588915.000000</td>\n",
       "      <td>588915.000000</td>\n",
       "      <td>588915.000000</td>\n",
       "    </tr>\n",
       "    <tr>\n",
       "      <th>mean</th>\n",
       "      <td>0.086201</td>\n",
       "      <td>180.713728</td>\n",
       "      <td>0.416936</td>\n",
       "      <td>178.194937</td>\n",
       "      <td>175.270300</td>\n",
       "    </tr>\n",
       "    <tr>\n",
       "      <th>std</th>\n",
       "      <td>0.747206</td>\n",
       "      <td>106.638873</td>\n",
       "      <td>0.320806</td>\n",
       "      <td>91.912789</td>\n",
       "      <td>105.656103</td>\n",
       "    </tr>\n",
       "    <tr>\n",
       "      <th>min</th>\n",
       "      <td>-1.541977</td>\n",
       "      <td>0.038783</td>\n",
       "      <td>0.000051</td>\n",
       "      <td>0.001892</td>\n",
       "      <td>0.000000</td>\n",
       "    </tr>\n",
       "    <tr>\n",
       "      <th>25%</th>\n",
       "      <td>-0.530022</td>\n",
       "      <td>91.424872</td>\n",
       "      <td>0.170455</td>\n",
       "      <td>103.703003</td>\n",
       "      <td>82.627335</td>\n",
       "    </tr>\n",
       "    <tr>\n",
       "      <th>50%</th>\n",
       "      <td>0.119981</td>\n",
       "      <td>166.505623</td>\n",
       "      <td>0.336559</td>\n",
       "      <td>181.914902</td>\n",
       "      <td>169.626831</td>\n",
       "    </tr>\n",
       "    <tr>\n",
       "      <th>75%</th>\n",
       "      <td>0.764844</td>\n",
       "      <td>282.628990</td>\n",
       "      <td>0.589341</td>\n",
       "      <td>247.353706</td>\n",
       "      <td>269.891907</td>\n",
       "    </tr>\n",
       "    <tr>\n",
       "      <th>max</th>\n",
       "      <td>1.558138</td>\n",
       "      <td>359.978360</td>\n",
       "      <td>2.015448</td>\n",
       "      <td>359.999146</td>\n",
       "      <td>359.999390</td>\n",
       "    </tr>\n",
       "  </tbody>\n",
       "</table>\n",
       "</div>"
      ],
      "text/plain": [
       "                anor  upslope_bearing    slope_angle  wind_direction  \\\n",
       "count  588915.000000    588915.000000  588915.000000   588915.000000   \n",
       "mean        0.086201       180.713728       0.416936      178.194937   \n",
       "std         0.747206       106.638873       0.320806       91.912789   \n",
       "min        -1.541977         0.038783       0.000051        0.001892   \n",
       "25%        -0.530022        91.424872       0.170455      103.703003   \n",
       "50%         0.119981       166.505623       0.336559      181.914902   \n",
       "75%         0.764844       282.628990       0.589341      247.353706   \n",
       "max         1.558138       359.978360       2.015448      359.999146   \n",
       "\n",
       "       wind_angle_upslope  \n",
       "count       588915.000000  \n",
       "mean           175.270300  \n",
       "std            105.656103  \n",
       "min              0.000000  \n",
       "25%             82.627335  \n",
       "50%            169.626831  \n",
       "75%            269.891907  \n",
       "max            359.999390  "
      ]
     },
     "execution_count": 49,
     "metadata": {},
     "output_type": "execute_result"
    }
   ],
   "source": [
    "processed_df[\n",
    "    [\n",
    "        \"anor\",\n",
    "        \"upslope_bearing\",\n",
    "        \"slope_angle\",\n",
    "        \"wind_direction\",\n",
    "        \"wind_angle_upslope\",\n",
    "    ]\n",
    "].describe()"
   ]
  },
  {
   "cell_type": "code",
   "execution_count": 12,
   "id": "623307dd",
   "metadata": {},
   "outputs": [
    {
     "data": {
      "text/html": [
       "<div>\n",
       "<style scoped>\n",
       "    .dataframe tbody tr th:only-of-type {\n",
       "        vertical-align: middle;\n",
       "    }\n",
       "\n",
       "    .dataframe tbody tr th {\n",
       "        vertical-align: top;\n",
       "    }\n",
       "\n",
       "    .dataframe thead th {\n",
       "        text-align: right;\n",
       "    }\n",
       "</style>\n",
       "<table border=\"1\" class=\"dataframe\">\n",
       "  <thead>\n",
       "    <tr style=\"text-align: right;\">\n",
       "      <th></th>\n",
       "      <th>anor</th>\n",
       "      <th>upslope_bearing</th>\n",
       "      <th>slope_angle</th>\n",
       "      <th>wind_direction</th>\n",
       "      <th>wind_angle_upslope</th>\n",
       "    </tr>\n",
       "  </thead>\n",
       "  <tbody>\n",
       "    <tr>\n",
       "      <th>count</th>\n",
       "      <td>588915.000000</td>\n",
       "      <td>588915.000000</td>\n",
       "      <td>588915.000000</td>\n",
       "      <td>588915.000000</td>\n",
       "      <td>588915.000000</td>\n",
       "    </tr>\n",
       "    <tr>\n",
       "      <th>mean</th>\n",
       "      <td>0.086201</td>\n",
       "      <td>179.358960</td>\n",
       "      <td>0.422738</td>\n",
       "      <td>178.194937</td>\n",
       "      <td>175.270300</td>\n",
       "    </tr>\n",
       "    <tr>\n",
       "      <th>std</th>\n",
       "      <td>0.747206</td>\n",
       "      <td>108.119432</td>\n",
       "      <td>0.323957</td>\n",
       "      <td>91.912789</td>\n",
       "      <td>105.656103</td>\n",
       "    </tr>\n",
       "    <tr>\n",
       "      <th>min</th>\n",
       "      <td>-1.541977</td>\n",
       "      <td>0.381363</td>\n",
       "      <td>0.000053</td>\n",
       "      <td>0.001892</td>\n",
       "      <td>0.000000</td>\n",
       "    </tr>\n",
       "    <tr>\n",
       "      <th>25%</th>\n",
       "      <td>-0.530022</td>\n",
       "      <td>75.987060</td>\n",
       "      <td>0.174229</td>\n",
       "      <td>103.703003</td>\n",
       "      <td>82.627335</td>\n",
       "    </tr>\n",
       "    <tr>\n",
       "      <th>50%</th>\n",
       "      <td>0.119981</td>\n",
       "      <td>191.879460</td>\n",
       "      <td>0.344243</td>\n",
       "      <td>181.914902</td>\n",
       "      <td>169.626831</td>\n",
       "    </tr>\n",
       "    <tr>\n",
       "      <th>75%</th>\n",
       "      <td>0.764844</td>\n",
       "      <td>268.418640</td>\n",
       "      <td>0.601930</td>\n",
       "      <td>247.353706</td>\n",
       "      <td>269.891907</td>\n",
       "    </tr>\n",
       "    <tr>\n",
       "      <th>max</th>\n",
       "      <td>1.558138</td>\n",
       "      <td>359.941560</td>\n",
       "      <td>1.969617</td>\n",
       "      <td>359.999146</td>\n",
       "      <td>359.999390</td>\n",
       "    </tr>\n",
       "  </tbody>\n",
       "</table>\n",
       "</div>"
      ],
      "text/plain": [
       "                anor  upslope_bearing    slope_angle  wind_direction  \\\n",
       "count  588915.000000    588915.000000  588915.000000   588915.000000   \n",
       "mean        0.086201       179.358960       0.422738      178.194937   \n",
       "std         0.747206       108.119432       0.323957       91.912789   \n",
       "min        -1.541977         0.381363       0.000053        0.001892   \n",
       "25%        -0.530022        75.987060       0.174229      103.703003   \n",
       "50%         0.119981       191.879460       0.344243      181.914902   \n",
       "75%         0.764844       268.418640       0.601930      247.353706   \n",
       "max         1.558138       359.941560       1.969617      359.999146   \n",
       "\n",
       "       wind_angle_upslope  \n",
       "count       588915.000000  \n",
       "mean           175.270300  \n",
       "std            105.656103  \n",
       "min              0.000000  \n",
       "25%             82.627335  \n",
       "50%            169.626831  \n",
       "75%            269.891907  \n",
       "max            359.999390  "
      ]
     },
     "execution_count": 12,
     "metadata": {},
     "output_type": "execute_result"
    }
   ],
   "source": [
    "processed_df[\n",
    "    [\n",
    "        \"anor\",\n",
    "        \"upslope_bearing\",\n",
    "        \"slope_angle\",\n",
    "        \"wind_direction\",\n",
    "        \"wind_angle_upslope\",\n",
    "    ]\n",
    "].describe()"
   ]
  },
  {
   "cell_type": "code",
   "execution_count": 15,
   "id": "6b08cea0",
   "metadata": {},
   "outputs": [
    {
     "name": "stdout",
     "output_type": "stream",
     "text": [
      "INFO: Pandarallel will run on 12 workers.\n",
      "INFO: Pandarallel will use Memory file system to transfer data between the main process and workers.\n"
     ]
    }
   ],
   "source": [
    "from utils import processing"
   ]
  },
  {
   "cell_type": "code",
   "execution_count": 16,
   "id": "7e1839f8",
   "metadata": {},
   "outputs": [],
   "source": [
    "geop, height = processing.load_geop_and_calc_elevation()"
   ]
  },
  {
   "cell_type": "code",
   "execution_count": null,
   "id": "453dfed4",
   "metadata": {},
   "outputs": [
    {
     "data": {
      "text/plain": [
       "pint.registry.Quantity"
      ]
     },
     "execution_count": 105,
     "metadata": {},
     "output_type": "execute_result"
    },
    {
     "ename": "",
     "evalue": "",
     "output_type": "error",
     "traceback": [
      "\u001b[1;31mnotebook controller is DISPOSED. \n",
      "\u001b[1;31mView Jupyter <a href='command:jupyter.viewOutput'>log</a> for further details."
     ]
    }
   ],
   "source": [
    "type(height)"
   ]
  },
  {
   "cell_type": "code",
   "execution_count": 18,
   "id": "2a74e65e",
   "metadata": {},
   "outputs": [],
   "source": [
    "import pyproj"
   ]
  },
  {
   "cell_type": "code",
   "execution_count": 19,
   "id": "658b3850",
   "metadata": {},
   "outputs": [],
   "source": [
    "# initialize the geodesic calculator with WGS84 ellipsoid\n",
    "# TODO: is there a better projection for East Africa?\n",
    "geod = pyproj.Geod(ellps=\"WGS84\")"
   ]
  },
  {
   "cell_type": "code",
   "execution_count": 20,
   "id": "7026fb4b",
   "metadata": {},
   "outputs": [],
   "source": [
    "_, _, dx = geod.inv(\n",
    "    geop[\"longitude\"].values[0],\n",
    "    geop[\"latitude\"].values[0],\n",
    "    geop[\"longitude\"].values[1],\n",
    "    geop[\"latitude\"].values[0],\n",
    ")  # lon = x spacing\n",
    "_, _, dy = geod.inv(\n",
    "    geop[\"longitude\"].values[0],\n",
    "    geop[\"latitude\"].values[0],\n",
    "    geop[\"longitude\"].values[0],\n",
    "    geop[\"latitude\"].values[1],\n",
    ")  # lat = y spacing"
   ]
  },
  {
   "cell_type": "code",
   "execution_count": 28,
   "id": "06474def",
   "metadata": {},
   "outputs": [
    {
     "data": {
      "text/plain": [
       "(np.float64(31.0), np.float64(16.0))"
      ]
     },
     "execution_count": 28,
     "metadata": {},
     "output_type": "execute_result"
    }
   ],
   "source": [
    "geop[\"longitude\"].values[0], geop[\"latitude\"].values[0]"
   ]
  },
  {
   "cell_type": "code",
   "execution_count": 29,
   "id": "ce68c492",
   "metadata": {},
   "outputs": [
    {
     "data": {
      "text/plain": [
       "(np.float64(31.25), np.float64(16.0))"
      ]
     },
     "execution_count": 29,
     "metadata": {},
     "output_type": "execute_result"
    }
   ],
   "source": [
    "geop[\"longitude\"].values[1], geop[\"latitude\"].values[0]"
   ]
  },
  {
   "cell_type": "code",
   "execution_count": 30,
   "id": "d73e5742",
   "metadata": {},
   "outputs": [
    {
     "data": {
      "text/plain": [
       "(np.float64(31.0), np.float64(15.75))"
      ]
     },
     "execution_count": 30,
     "metadata": {},
     "output_type": "execute_result"
    }
   ],
   "source": [
    "geop[\"longitude\"].values[0], geop[\"latitude\"].values[1]"
   ]
  },
  {
   "cell_type": "code",
   "execution_count": 21,
   "id": "e95490d3",
   "metadata": {},
   "outputs": [
    {
     "data": {
      "text/plain": [
       "26758.59475064042"
      ]
     },
     "execution_count": 21,
     "metadata": {},
     "output_type": "execute_result"
    }
   ],
   "source": [
    "dx"
   ]
  },
  {
   "cell_type": "code",
   "execution_count": 22,
   "id": "131d345f",
   "metadata": {},
   "outputs": [
    {
     "data": {
      "text/plain": [
       "27664.352319844038"
      ]
     },
     "execution_count": 22,
     "metadata": {},
     "output_type": "execute_result"
    }
   ],
   "source": [
    "dy"
   ]
  },
  {
   "cell_type": "code",
   "execution_count": 23,
   "id": "b2ed6450",
   "metadata": {},
   "outputs": [],
   "source": [
    "import numpy as np"
   ]
  },
  {
   "cell_type": "code",
   "execution_count": 24,
   "id": "0e738c3e",
   "metadata": {},
   "outputs": [],
   "source": [
    "dz_dx, dz_dy = np.gradient(height.magnitude, dx, dy)\n",
    "upslope_angle = np.arctan2(dz_dy, dz_dx)  # radians from east [-pi, pi]"
   ]
  },
  {
   "cell_type": "code",
   "execution_count": 31,
   "id": "f6bf3ac4",
   "metadata": {},
   "outputs": [],
   "source": [
    "import metpy.calc as mpcalc"
   ]
  },
  {
   "cell_type": "code",
   "execution_count": null,
   "id": "c10d25c1",
   "metadata": {},
   "outputs": [],
   "source": [
    "dx_geo, dy_geo = mpcalc.lat_lon_grid_deltas(geop.longitude, geop.latitude)\n",
    "dz_dx_geo, dz_dy_geo = mpcalc.geospatial_gradient(\n",
    "    height.magnitude, dx=dx_geo, dy=dy_geo\n",
    ")"
   ]
  },
  {
   "cell_type": "code",
   "execution_count": null,
   "id": "24d395f3",
   "metadata": {},
   "outputs": [],
   "source": [
    "upslope_angle_geo = np.arctan2(\n",
    "    dz_dy_geo, dz_dx_geo\n",
    ")  # radians from east [-pi, pi]"
   ]
  },
  {
   "cell_type": "code",
   "execution_count": 40,
   "id": "9b7c85f6",
   "metadata": {},
   "outputs": [
    {
     "data": {
      "text/html": [
       "<table><tbody><tr><th>Magnitude</th><td style='text-align:left;'><pre>[[3.050053678465297 2.9204202952508096 2.908180582679847 ...  -2.1245137868947936 -1.1750596250684255 -0.9974836269107751] [3.032023853711237 3.0752870044701286 3.0928718659666665 ...  2.655766579225275 0.9021953805073343 1.1928312441975306] [3.019237200702383 -3.0705586729627017 -2.8579358751486117 ...  -2.918486015476568 0.6999571949513569 0.5459944683239958] ... [-2.904402855819445 -2.985032662521671 1.6469055371016943 ...  1.9556807047626743 1.8067732973989266 0.48377393694543575] [3.0030700329176065 3.0300525647536563 -2.095692895416191 ...  2.3871940368594253 -2.0596740503319872 -0.42708235305827763] [2.455313622931862 2.5048192752277365 -1.047005993212421 ...  -2.0067420523793222 -1.353235525355458 -1.7180783971425226]]</pre></td></tr><tr><th>Units</th><td style='text-align:left;'>radian</td></tr></tbody></table>"
      ],
      "text/latex": [
       "$\\begin{pmatrix} &  &  &  &  &  &  &  &  &  &  &  &  &  &  &  &  &  &  &  &  &  &  &  &  &  &  &  &  &  &  &  &  &  &  &  &  &  &  &  &  &  &  &  &  &  &  &  &  &  &  &  &  &  &  &  &  &  &  &  &  &  &  &  &  &  &  &  &  &  &  &  &  &  &  &  &  &  &  &  &  &  &  &  &  &  &  &  & \\\\ \n",
       " &  &  &  &  &  &  &  &  &  &  &  &  &  &  &  &  &  &  &  &  &  &  &  &  &  &  &  &  &  &  &  &  &  &  &  &  &  &  &  &  &  &  &  &  &  &  &  &  &  &  &  &  &  &  &  &  &  &  &  &  &  &  &  &  &  &  &  &  &  &  &  &  &  &  &  &  &  &  &  &  &  &  &  &  &  &  &  & \\\\ \n",
       " &  &  &  &  &  &  &  &  &  &  &  &  &  &  &  &  &  &  &  &  &  &  &  &  &  &  &  &  &  &  &  &  &  &  &  &  &  &  &  &  &  &  &  &  &  &  &  &  &  &  &  &  &  &  &  &  &  &  &  &  &  &  &  &  &  &  &  &  &  &  &  &  &  &  &  &  &  &  &  &  &  &  &  &  &  &  &  & \\\\ \n",
       " &  &  &  &  &  &  &  &  &  &  &  &  &  &  &  &  &  &  &  &  &  &  &  &  &  &  &  &  &  &  &  &  &  &  &  &  &  &  &  &  &  &  &  &  &  &  &  &  &  &  &  &  &  &  &  &  &  &  &  &  &  &  &  &  &  &  &  &  &  &  &  &  &  &  &  &  &  &  &  &  &  &  &  &  &  &  &  & \\\\ \n",
       " &  &  &  &  &  &  &  &  &  &  &  &  &  &  &  &  &  &  &  &  &  &  &  &  &  &  &  &  &  &  &  &  &  &  &  &  &  &  &  &  &  &  &  &  &  &  &  &  &  &  &  &  &  &  &  &  &  &  &  &  &  &  &  &  &  &  &  &  &  &  &  &  &  &  &  &  &  &  &  &  &  &  &  &  &  &  &  & \\\\ \n",
       " &  &  &  &  &  &  &  &  &  &  &  &  &  &  &  &  &  &  &  &  &  &  &  &  &  &  &  &  &  &  &  &  &  &  &  &  &  &  &  &  &  &  &  &  &  &  &  &  &  &  &  &  &  &  &  &  &  &  &  &  &  &  &  &  &  &  &  &  &  &  &  &  &  &  &  &  &  &  &  &  &  &  &  &  &  &  &  & \\\\ \n",
       " &  &  &  &  &  &  &  &  &  &  &  &  &  &  &  &  &  &  &  &  &  &  &  &  &  &  &  &  &  &  &  &  &  &  &  &  &  &  &  &  &  &  &  &  &  &  &  &  &  &  &  &  &  &  &  &  &  &  &  &  &  &  &  &  &  &  &  &  &  &  &  &  &  &  &  &  &  &  &  &  &  &  &  &  &  &  &  & \\\\ \n",
       " &  &  &  &  &  &  &  &  &  &  &  &  &  &  &  &  &  &  &  &  &  &  &  &  &  &  &  &  &  &  &  &  &  &  &  &  &  &  &  &  &  &  &  &  &  &  &  &  &  &  &  &  &  &  &  &  &  &  &  &  &  &  &  &  &  &  &  &  &  &  &  &  &  &  &  &  &  &  &  &  &  &  &  &  &  &  &  & \\\\ \n",
       " &  &  &  &  &  &  &  &  &  &  &  &  &  &  &  &  &  &  &  &  &  &  &  &  &  &  &  &  &  &  &  &  &  &  &  &  &  &  &  &  &  &  &  &  &  &  &  &  &  &  &  &  &  &  &  &  &  &  &  &  &  &  &  &  &  &  &  &  &  &  &  &  &  &  &  &  &  &  &  &  &  &  &  &  &  &  &  & \\\\ \n",
       " &  &  &  &  &  &  &  &  &  &  &  &  &  &  &  &  &  &  &  &  &  &  &  &  &  &  &  &  &  &  &  &  &  &  &  &  &  &  &  &  &  &  &  &  &  &  &  &  &  &  &  &  &  &  &  &  &  &  &  &  &  &  &  &  &  &  &  &  &  &  &  &  &  &  &  &  &  &  &  &  &  &  &  &  &  &  &  & \\\\ \n",
       " &  &  &  &  &  &  &  &  &  &  &  &  &  &  &  &  &  &  &  &  &  &  &  &  &  &  &  &  &  &  &  &  &  &  &  &  &  &  &  &  &  &  &  &  &  &  &  &  &  &  &  &  &  &  &  &  &  &  &  &  &  &  &  &  &  &  &  &  &  &  &  &  &  &  &  &  &  &  &  &  &  &  &  &  &  &  &  & \\\\ \n",
       " &  &  &  &  &  &  &  &  &  &  &  &  &  &  &  &  &  &  &  &  &  &  &  &  &  &  &  &  &  &  &  &  &  &  &  &  &  &  &  &  &  &  &  &  &  &  &  &  &  &  &  &  &  &  &  &  &  &  &  &  &  &  &  &  &  &  &  &  &  &  &  &  &  &  &  &  &  &  &  &  &  &  &  &  &  &  &  & \\\\ \n",
       " &  &  &  &  &  &  &  &  &  &  &  &  &  &  &  &  &  &  &  &  &  &  &  &  &  &  &  &  &  &  &  &  &  &  &  &  &  &  &  &  &  &  &  &  &  &  &  &  &  &  &  &  &  &  &  &  &  &  &  &  &  &  &  &  &  &  &  &  &  &  &  &  &  &  &  &  &  &  &  &  &  &  &  &  &  &  &  & \\\\ \n",
       " &  &  &  &  &  &  &  &  &  &  &  &  &  &  &  &  &  &  &  &  &  &  &  &  &  &  &  &  &  &  &  &  &  &  &  &  &  &  &  &  &  &  &  &  &  &  &  &  &  &  &  &  &  &  &  &  &  &  &  &  &  &  &  &  &  &  &  &  &  &  &  &  &  &  &  &  &  &  &  &  &  &  &  &  &  &  &  & \\\\ \n",
       " &  &  &  &  &  &  &  &  &  &  &  &  &  &  &  &  &  &  &  &  &  &  &  &  &  &  &  &  &  &  &  &  &  &  &  &  &  &  &  &  &  &  &  &  &  &  &  &  &  &  &  &  &  &  &  &  &  &  &  &  &  &  &  &  &  &  &  &  &  &  &  &  &  &  &  &  &  &  &  &  &  &  &  &  &  &  &  & \\\\ \n",
       " &  &  &  &  &  &  &  &  &  &  &  &  &  &  &  &  &  &  &  &  &  &  &  &  &  &  &  &  &  &  &  &  &  &  &  &  &  &  &  &  &  &  &  &  &  &  &  &  &  &  &  &  &  &  &  &  &  &  &  &  &  &  &  &  &  &  &  &  &  &  &  &  &  &  &  &  &  &  &  &  &  &  &  &  &  &  &  & \\\\ \n",
       " &  &  &  &  &  &  &  &  &  &  &  &  &  &  &  &  &  &  &  &  &  &  &  &  &  &  &  &  &  &  &  &  &  &  &  &  &  &  &  &  &  &  &  &  &  &  &  &  &  &  &  &  &  &  &  &  &  &  &  &  &  &  &  &  &  &  &  &  &  &  &  &  &  &  &  &  &  &  &  &  &  &  &  &  &  &  &  & \\\\ \n",
       " &  &  &  &  &  &  &  &  &  &  &  &  &  &  &  &  &  &  &  &  &  &  &  &  &  &  &  &  &  &  &  &  &  &  &  &  &  &  &  &  &  &  &  &  &  &  &  &  &  &  &  &  &  &  &  &  &  &  &  &  &  &  &  &  &  &  &  &  &  &  &  &  &  &  &  &  &  &  &  &  &  &  &  &  &  &  &  & \\\\ \n",
       " &  &  &  &  &  &  &  &  &  &  &  &  &  &  &  &  &  &  &  &  &  &  &  &  &  &  &  &  &  &  &  &  &  &  &  &  &  &  &  &  &  &  &  &  &  &  &  &  &  &  &  &  &  &  &  &  &  &  &  &  &  &  &  &  &  &  &  &  &  &  &  &  &  &  &  &  &  &  &  &  &  &  &  &  &  &  &  & \\\\ \n",
       " &  &  &  &  &  &  &  &  &  &  &  &  &  &  &  &  &  &  &  &  &  &  &  &  &  &  &  &  &  &  &  &  &  &  &  &  &  &  &  &  &  &  &  &  &  &  &  &  &  &  &  &  &  &  &  &  &  &  &  &  &  &  &  &  &  &  &  &  &  &  &  &  &  &  &  &  &  &  &  &  &  &  &  &  &  &  &  & \\\\ \n",
       " &  &  &  &  &  &  &  &  &  &  &  &  &  &  &  &  &  &  &  &  &  &  &  &  &  &  &  &  &  &  &  &  &  &  &  &  &  &  &  &  &  &  &  &  &  &  &  &  &  &  &  &  &  &  &  &  &  &  &  &  &  &  &  &  &  &  &  &  &  &  &  &  &  &  &  &  &  &  &  &  &  &  &  &  &  &  &  & \\\\ \n",
       " &  &  &  &  &  &  &  &  &  &  &  &  &  &  &  &  &  &  &  &  &  &  &  &  &  &  &  &  &  &  &  &  &  &  &  &  &  &  &  &  &  &  &  &  &  &  &  &  &  &  &  &  &  &  &  &  &  &  &  &  &  &  &  &  &  &  &  &  &  &  &  &  &  &  &  &  &  &  &  &  &  &  &  &  &  &  &  & \\\\ \n",
       " &  &  &  &  &  &  &  &  &  &  &  &  &  &  &  &  &  &  &  &  &  &  &  &  &  &  &  &  &  &  &  &  &  &  &  &  &  &  &  &  &  &  &  &  &  &  &  &  &  &  &  &  &  &  &  &  &  &  &  &  &  &  &  &  &  &  &  &  &  &  &  &  &  &  &  &  &  &  &  &  &  &  &  &  &  &  &  & \\\\ \n",
       " &  &  &  &  &  &  &  &  &  &  &  &  &  &  &  &  &  &  &  &  &  &  &  &  &  &  &  &  &  &  &  &  &  &  &  &  &  &  &  &  &  &  &  &  &  &  &  &  &  &  &  &  &  &  &  &  &  &  &  &  &  &  &  &  &  &  &  &  &  &  &  &  &  &  &  &  &  &  &  &  &  &  &  &  &  &  &  & \\\\ \n",
       " &  &  &  &  &  &  &  &  &  &  &  &  &  &  &  &  &  &  &  &  &  &  &  &  &  &  &  &  &  &  &  &  &  &  &  &  &  &  &  &  &  &  &  &  &  &  &  &  &  &  &  &  &  &  &  &  &  &  &  &  &  &  &  &  &  &  &  &  &  &  &  &  &  &  &  &  &  &  &  &  &  &  &  &  &  &  &  & \\\\ \n",
       " &  &  &  &  &  &  &  &  &  &  &  &  &  &  &  &  &  &  &  &  &  &  &  &  &  &  &  &  &  &  &  &  &  &  &  &  &  &  &  &  &  &  &  &  &  &  &  &  &  &  &  &  &  &  &  &  &  &  &  &  &  &  &  &  &  &  &  &  &  &  &  &  &  &  &  &  &  &  &  &  &  &  &  &  &  &  &  & \\\\ \n",
       " &  &  &  &  &  &  &  &  &  &  &  &  &  &  &  &  &  &  &  &  &  &  &  &  &  &  &  &  &  &  &  &  &  &  &  &  &  &  &  &  &  &  &  &  &  &  &  &  &  &  &  &  &  &  &  &  &  &  &  &  &  &  &  &  &  &  &  &  &  &  &  &  &  &  &  &  &  &  &  &  &  &  &  &  &  &  &  & \\\\ \n",
       " &  &  &  &  &  &  &  &  &  &  &  &  &  &  &  &  &  &  &  &  &  &  &  &  &  &  &  &  &  &  &  &  &  &  &  &  &  &  &  &  &  &  &  &  &  &  &  &  &  &  &  &  &  &  &  &  &  &  &  &  &  &  &  &  &  &  &  &  &  &  &  &  &  &  &  &  &  &  &  &  &  &  &  &  &  &  &  & \\\\ \n",
       " &  &  &  &  &  &  &  &  &  &  &  &  &  &  &  &  &  &  &  &  &  &  &  &  &  &  &  &  &  &  &  &  &  &  &  &  &  &  &  &  &  &  &  &  &  &  &  &  &  &  &  &  &  &  &  &  &  &  &  &  &  &  &  &  &  &  &  &  &  &  &  &  &  &  &  &  &  &  &  &  &  &  &  &  &  &  &  & \\\\ \n",
       " &  &  &  &  &  &  &  &  &  &  &  &  &  &  &  &  &  &  &  &  &  &  &  &  &  &  &  &  &  &  &  &  &  &  &  &  &  &  &  &  &  &  &  &  &  &  &  &  &  &  &  &  &  &  &  &  &  &  &  &  &  &  &  &  &  &  &  &  &  &  &  &  &  &  &  &  &  &  &  &  &  &  &  &  &  &  &  & \\\\ \n",
       " &  &  &  &  &  &  &  &  &  &  &  &  &  &  &  &  &  &  &  &  &  &  &  &  &  &  &  &  &  &  &  &  &  &  &  &  &  &  &  &  &  &  &  &  &  &  &  &  &  &  &  &  &  &  &  &  &  &  &  &  &  &  &  &  &  &  &  &  &  &  &  &  &  &  &  &  &  &  &  &  &  &  &  &  &  &  &  & \\\\ \n",
       " &  &  &  &  &  &  &  &  &  &  &  &  &  &  &  &  &  &  &  &  &  &  &  &  &  &  &  &  &  &  &  &  &  &  &  &  &  &  &  &  &  &  &  &  &  &  &  &  &  &  &  &  &  &  &  &  &  &  &  &  &  &  &  &  &  &  &  &  &  &  &  &  &  &  &  &  &  &  &  &  &  &  &  &  &  &  &  & \\\\ \n",
       " &  &  &  &  &  &  &  &  &  &  &  &  &  &  &  &  &  &  &  &  &  &  &  &  &  &  &  &  &  &  &  &  &  &  &  &  &  &  &  &  &  &  &  &  &  &  &  &  &  &  &  &  &  &  &  &  &  &  &  &  &  &  &  &  &  &  &  &  &  &  &  &  &  &  &  &  &  &  &  &  &  &  &  &  &  &  &  & \\\\ \n",
       " &  &  &  &  &  &  &  &  &  &  &  &  &  &  &  &  &  &  &  &  &  &  &  &  &  &  &  &  &  &  &  &  &  &  &  &  &  &  &  &  &  &  &  &  &  &  &  &  &  &  &  &  &  &  &  &  &  &  &  &  &  &  &  &  &  &  &  &  &  &  &  &  &  &  &  &  &  &  &  &  &  &  &  &  &  &  &  & \\\\ \n",
       " &  &  &  &  &  &  &  &  &  &  &  &  &  &  &  &  &  &  &  &  &  &  &  &  &  &  &  &  &  &  &  &  &  &  &  &  &  &  &  &  &  &  &  &  &  &  &  &  &  &  &  &  &  &  &  &  &  &  &  &  &  &  &  &  &  &  &  &  &  &  &  &  &  &  &  &  &  &  &  &  &  &  &  &  &  &  &  & \\\\ \n",
       " &  &  &  &  &  &  &  &  &  &  &  &  &  &  &  &  &  &  &  &  &  &  &  &  &  &  &  &  &  &  &  &  &  &  &  &  &  &  &  &  &  &  &  &  &  &  &  &  &  &  &  &  &  &  &  &  &  &  &  &  &  &  &  &  &  &  &  &  &  &  &  &  &  &  &  &  &  &  &  &  &  &  &  &  &  &  &  & \\\\ \n",
       " &  &  &  &  &  &  &  &  &  &  &  &  &  &  &  &  &  &  &  &  &  &  &  &  &  &  &  &  &  &  &  &  &  &  &  &  &  &  &  &  &  &  &  &  &  &  &  &  &  &  &  &  &  &  &  &  &  &  &  &  &  &  &  &  &  &  &  &  &  &  &  &  &  &  &  &  &  &  &  &  &  &  &  &  &  &  &  & \\\\ \n",
       " &  &  &  &  &  &  &  &  &  &  &  &  &  &  &  &  &  &  &  &  &  &  &  &  &  &  &  &  &  &  &  &  &  &  &  &  &  &  &  &  &  &  &  &  &  &  &  &  &  &  &  &  &  &  &  &  &  &  &  &  &  &  &  &  &  &  &  &  &  &  &  &  &  &  &  &  &  &  &  &  &  &  &  &  &  &  &  & \\\\ \n",
       " &  &  &  &  &  &  &  &  &  &  &  &  &  &  &  &  &  &  &  &  &  &  &  &  &  &  &  &  &  &  &  &  &  &  &  &  &  &  &  &  &  &  &  &  &  &  &  &  &  &  &  &  &  &  &  &  &  &  &  &  &  &  &  &  &  &  &  &  &  &  &  &  &  &  &  &  &  &  &  &  &  &  &  &  &  &  &  & \\\\ \n",
       " &  &  &  &  &  &  &  &  &  &  &  &  &  &  &  &  &  &  &  &  &  &  &  &  &  &  &  &  &  &  &  &  &  &  &  &  &  &  &  &  &  &  &  &  &  &  &  &  &  &  &  &  &  &  &  &  &  &  &  &  &  &  &  &  &  &  &  &  &  &  &  &  &  &  &  &  &  &  &  &  &  &  &  &  &  &  &  & \\\\ \n",
       " &  &  &  &  &  &  &  &  &  &  &  &  &  &  &  &  &  &  &  &  &  &  &  &  &  &  &  &  &  &  &  &  &  &  &  &  &  &  &  &  &  &  &  &  &  &  &  &  &  &  &  &  &  &  &  &  &  &  &  &  &  &  &  &  &  &  &  &  &  &  &  &  &  &  &  &  &  &  &  &  &  &  &  &  &  &  &  & \\\\ \n",
       " &  &  &  &  &  &  &  &  &  &  &  &  &  &  &  &  &  &  &  &  &  &  &  &  &  &  &  &  &  &  &  &  &  &  &  &  &  &  &  &  &  &  &  &  &  &  &  &  &  &  &  &  &  &  &  &  &  &  &  &  &  &  &  &  &  &  &  &  &  &  &  &  &  &  &  &  &  &  &  &  &  &  &  &  &  &  &  & \\\\ \n",
       " &  &  &  &  &  &  &  &  &  &  &  &  &  &  &  &  &  &  &  &  &  &  &  &  &  &  &  &  &  &  &  &  &  &  &  &  &  &  &  &  &  &  &  &  &  &  &  &  &  &  &  &  &  &  &  &  &  &  &  &  &  &  &  &  &  &  &  &  &  &  &  &  &  &  &  &  &  &  &  &  &  &  &  &  &  &  &  & \\\\ \n",
       " &  &  &  &  &  &  &  &  &  &  &  &  &  &  &  &  &  &  &  &  &  &  &  &  &  &  &  &  &  &  &  &  &  &  &  &  &  &  &  &  &  &  &  &  &  &  &  &  &  &  &  &  &  &  &  &  &  &  &  &  &  &  &  &  &  &  &  &  &  &  &  &  &  &  &  &  &  &  &  &  &  &  &  &  &  &  &  & \\\\ \n",
       " &  &  &  &  &  &  &  &  &  &  &  &  &  &  &  &  &  &  &  &  &  &  &  &  &  &  &  &  &  &  &  &  &  &  &  &  &  &  &  &  &  &  &  &  &  &  &  &  &  &  &  &  &  &  &  &  &  &  &  &  &  &  &  &  &  &  &  &  &  &  &  &  &  &  &  &  &  &  &  &  &  &  &  &  &  &  &  & \\\\ \n",
       " &  &  &  &  &  &  &  &  &  &  &  &  &  &  &  &  &  &  &  &  &  &  &  &  &  &  &  &  &  &  &  &  &  &  &  &  &  &  &  &  &  &  &  &  &  &  &  &  &  &  &  &  &  &  &  &  &  &  &  &  &  &  &  &  &  &  &  &  &  &  &  &  &  &  &  &  &  &  &  &  &  &  &  &  &  &  &  & \\\\ \n",
       " &  &  &  &  &  &  &  &  &  &  &  &  &  &  &  &  &  &  &  &  &  &  &  &  &  &  &  &  &  &  &  &  &  &  &  &  &  &  &  &  &  &  &  &  &  &  &  &  &  &  &  &  &  &  &  &  &  &  &  &  &  &  &  &  &  &  &  &  &  &  &  &  &  &  &  &  &  &  &  &  &  &  &  &  &  &  &  & \\\\ \n",
       " &  &  &  &  &  &  &  &  &  &  &  &  &  &  &  &  &  &  &  &  &  &  &  &  &  &  &  &  &  &  &  &  &  &  &  &  &  &  &  &  &  &  &  &  &  &  &  &  &  &  &  &  &  &  &  &  &  &  &  &  &  &  &  &  &  &  &  &  &  &  &  &  &  &  &  &  &  &  &  &  &  &  &  &  &  &  &  & \\\\ \n",
       " &  &  &  &  &  &  &  &  &  &  &  &  &  &  &  &  &  &  &  &  &  &  &  &  &  &  &  &  &  &  &  &  &  &  &  &  &  &  &  &  &  &  &  &  &  &  &  &  &  &  &  &  &  &  &  &  &  &  &  &  &  &  &  &  &  &  &  &  &  &  &  &  &  &  &  &  &  &  &  &  &  &  &  &  &  &  &  & \\\\ \n",
       " &  &  &  &  &  &  &  &  &  &  &  &  &  &  &  &  &  &  &  &  &  &  &  &  &  &  &  &  &  &  &  &  &  &  &  &  &  &  &  &  &  &  &  &  &  &  &  &  &  &  &  &  &  &  &  &  &  &  &  &  &  &  &  &  &  &  &  &  &  &  &  &  &  &  &  &  &  &  &  &  &  &  &  &  &  &  &  & \\\\ \n",
       " &  &  &  &  &  &  &  &  &  &  &  &  &  &  &  &  &  &  &  &  &  &  &  &  &  &  &  &  &  &  &  &  &  &  &  &  &  &  &  &  &  &  &  &  &  &  &  &  &  &  &  &  &  &  &  &  &  &  &  &  &  &  &  &  &  &  &  &  &  &  &  &  &  &  &  &  &  &  &  &  &  &  &  &  &  &  &  & \\\\ \n",
       " &  &  &  &  &  &  &  &  &  &  &  &  &  &  &  &  &  &  &  &  &  &  &  &  &  &  &  &  &  &  &  &  &  &  &  &  &  &  &  &  &  &  &  &  &  &  &  &  &  &  &  &  &  &  &  &  &  &  &  &  &  &  &  &  &  &  &  &  &  &  &  &  &  &  &  &  &  &  &  &  &  &  &  &  &  &  &  & \\\\ \n",
       " &  &  &  &  &  &  &  &  &  &  &  &  &  &  &  &  &  &  &  &  &  &  &  &  &  &  &  &  &  &  &  &  &  &  &  &  &  &  &  &  &  &  &  &  &  &  &  &  &  &  &  &  &  &  &  &  &  &  &  &  &  &  &  &  &  &  &  &  &  &  &  &  &  &  &  &  &  &  &  &  &  &  &  &  &  &  &  & \\\\ \n",
       " &  &  &  &  &  &  &  &  &  &  &  &  &  &  &  &  &  &  &  &  &  &  &  &  &  &  &  &  &  &  &  &  &  &  &  &  &  &  &  &  &  &  &  &  &  &  &  &  &  &  &  &  &  &  &  &  &  &  &  &  &  &  &  &  &  &  &  &  &  &  &  &  &  &  &  &  &  &  &  &  &  &  &  &  &  &  &  & \\\\ \n",
       " &  &  &  &  &  &  &  &  &  &  &  &  &  &  &  &  &  &  &  &  &  &  &  &  &  &  &  &  &  &  &  &  &  &  &  &  &  &  &  &  &  &  &  &  &  &  &  &  &  &  &  &  &  &  &  &  &  &  &  &  &  &  &  &  &  &  &  &  &  &  &  &  &  &  &  &  &  &  &  &  &  &  &  &  &  &  &  & \\\\ \n",
       " &  &  &  &  &  &  &  &  &  &  &  &  &  &  &  &  &  &  &  &  &  &  &  &  &  &  &  &  &  &  &  &  &  &  &  &  &  &  &  &  &  &  &  &  &  &  &  &  &  &  &  &  &  &  &  &  &  &  &  &  &  &  &  &  &  &  &  &  &  &  &  &  &  &  &  &  &  &  &  &  &  &  &  &  &  &  &  & \\\\ \n",
       " &  &  &  &  &  &  &  &  &  &  &  &  &  &  &  &  &  &  &  &  &  &  &  &  &  &  &  &  &  &  &  &  &  &  &  &  &  &  &  &  &  &  &  &  &  &  &  &  &  &  &  &  &  &  &  &  &  &  &  &  &  &  &  &  &  &  &  &  &  &  &  &  &  &  &  &  &  &  &  &  &  &  &  &  &  &  &  & \\end{pmatrix}\\ \\mathrm{radian}$"
      ],
      "text/plain": [
       "<Quantity([[ 3.05005368  2.9204203   2.90818058 ... -2.12451379 -1.17505963\n",
       "  -0.99748363]\n",
       " [ 3.03202385  3.075287    3.09287187 ...  2.65576658  0.90219538\n",
       "   1.19283124]\n",
       " [ 3.0192372  -3.07055867 -2.85793588 ... -2.91848602  0.69995719\n",
       "   0.54599447]\n",
       " ...\n",
       " [-2.90440286 -2.98503266  1.64690554 ...  1.9556807   1.8067733\n",
       "   0.48377394]\n",
       " [ 3.00307003  3.03005256 -2.0956929  ...  2.38719404 -2.05967405\n",
       "  -0.42708235]\n",
       " [ 2.45531362  2.50481928 -1.04700599 ... -2.00674205 -1.35323553\n",
       "  -1.7180784 ]], 'radian')>"
      ]
     },
     "execution_count": 40,
     "metadata": {},
     "output_type": "execute_result"
    }
   ],
   "source": [
    "upslope_angle_geo"
   ]
  },
  {
   "cell_type": "code",
   "execution_count": 39,
   "id": "0bd21605",
   "metadata": {},
   "outputs": [
    {
     "data": {
      "text/html": [
       "<div>\n",
       "<style scoped>\n",
       "    .dataframe tbody tr th:only-of-type {\n",
       "        vertical-align: middle;\n",
       "    }\n",
       "\n",
       "    .dataframe tbody tr th {\n",
       "        vertical-align: top;\n",
       "    }\n",
       "\n",
       "    .dataframe thead th {\n",
       "        text-align: right;\n",
       "    }\n",
       "</style>\n",
       "<table border=\"1\" class=\"dataframe\">\n",
       "  <thead>\n",
       "    <tr style=\"text-align: right;\">\n",
       "      <th></th>\n",
       "      <th>dz_dx</th>\n",
       "      <th>dz_dy</th>\n",
       "      <th>upslope_angle</th>\n",
       "      <th>dz_dx_geo</th>\n",
       "      <th>dz_dy_geo</th>\n",
       "      <th>upslope_angle_geo</th>\n",
       "    </tr>\n",
       "  </thead>\n",
       "  <tbody>\n",
       "    <tr>\n",
       "      <th>count</th>\n",
       "      <td>5073.000000</td>\n",
       "      <td>5073.000000</td>\n",
       "      <td>5073.000000</td>\n",
       "      <td>5073.000000</td>\n",
       "      <td>5073.000000</td>\n",
       "      <td>5073.000000</td>\n",
       "    </tr>\n",
       "    <tr>\n",
       "      <th>mean</th>\n",
       "      <td>-0.000130</td>\n",
       "      <td>-0.000261</td>\n",
       "      <td>-0.246623</td>\n",
       "      <td>-0.000268</td>\n",
       "      <td>0.000134</td>\n",
       "      <td>0.128896</td>\n",
       "    </tr>\n",
       "    <tr>\n",
       "      <th>std</th>\n",
       "      <td>0.004758</td>\n",
       "      <td>0.005106</td>\n",
       "      <td>1.830651</td>\n",
       "      <td>0.005210</td>\n",
       "      <td>0.004603</td>\n",
       "      <td>1.852591</td>\n",
       "    </tr>\n",
       "    <tr>\n",
       "      <th>min</th>\n",
       "      <td>-0.028641</td>\n",
       "      <td>-0.034241</td>\n",
       "      <td>-3.141236</td>\n",
       "      <td>-0.035119</td>\n",
       "      <td>-0.026237</td>\n",
       "      <td>-3.139376</td>\n",
       "    </tr>\n",
       "    <tr>\n",
       "      <th>25%</th>\n",
       "      <td>-0.001625</td>\n",
       "      <td>-0.001589</td>\n",
       "      <td>-1.957331</td>\n",
       "      <td>-0.001601</td>\n",
       "      <td>-0.000800</td>\n",
       "      <td>-1.495438</td>\n",
       "    </tr>\n",
       "    <tr>\n",
       "      <th>50%</th>\n",
       "      <td>-0.000010</td>\n",
       "      <td>-0.000019</td>\n",
       "      <td>-0.302129</td>\n",
       "      <td>-0.000020</td>\n",
       "      <td>0.000010</td>\n",
       "      <td>0.138889</td>\n",
       "    </tr>\n",
       "    <tr>\n",
       "      <th>75%</th>\n",
       "      <td>0.000826</td>\n",
       "      <td>0.000759</td>\n",
       "      <td>1.339203</td>\n",
       "      <td>0.000767</td>\n",
       "      <td>0.001622</td>\n",
       "      <td>1.868236</td>\n",
       "    </tr>\n",
       "    <tr>\n",
       "      <th>max</th>\n",
       "      <td>0.027257</td>\n",
       "      <td>0.027127</td>\n",
       "      <td>3.140947</td>\n",
       "      <td>0.028015</td>\n",
       "      <td>0.027569</td>\n",
       "      <td>3.141462</td>\n",
       "    </tr>\n",
       "  </tbody>\n",
       "</table>\n",
       "</div>"
      ],
      "text/plain": [
       "             dz_dx        dz_dy  upslope_angle    dz_dx_geo    dz_dy_geo  \\\n",
       "count  5073.000000  5073.000000    5073.000000  5073.000000  5073.000000   \n",
       "mean     -0.000130    -0.000261      -0.246623    -0.000268     0.000134   \n",
       "std       0.004758     0.005106       1.830651     0.005210     0.004603   \n",
       "min      -0.028641    -0.034241      -3.141236    -0.035119    -0.026237   \n",
       "25%      -0.001625    -0.001589      -1.957331    -0.001601    -0.000800   \n",
       "50%      -0.000010    -0.000019      -0.302129    -0.000020     0.000010   \n",
       "75%       0.000826     0.000759       1.339203     0.000767     0.001622   \n",
       "max       0.027257     0.027127       3.140947     0.028015     0.027569   \n",
       "\n",
       "       upslope_angle_geo  \n",
       "count        5073.000000  \n",
       "mean            0.128896  \n",
       "std             1.852591  \n",
       "min            -3.139376  \n",
       "25%            -1.495438  \n",
       "50%             0.138889  \n",
       "75%             1.868236  \n",
       "max             3.141462  "
      ]
     },
     "execution_count": 39,
     "metadata": {},
     "output_type": "execute_result"
    }
   ],
   "source": [
    "pd.DataFrame(\n",
    "    {\n",
    "        \"dz_dx\": dz_dx.flatten(),\n",
    "        \"dz_dy\": dz_dy.flatten(),\n",
    "        \"upslope_angle\": upslope_angle.flatten(),\n",
    "        \"dz_dx_geo\": dz_dx_geo.flatten(),\n",
    "        \"dz_dy_geo\": dz_dy_geo.flatten(),\n",
    "        \"upslope_angle_geo\": upslope_angle_geo.flatten(),\n",
    "    }\n",
    ").describe()"
   ]
  },
  {
   "cell_type": "code",
   "execution_count": 45,
   "id": "afd6e7f2",
   "metadata": {},
   "outputs": [
    {
     "data": {
      "text/plain": [
       "array([[ 3.05005368,  2.9204203 ,  2.90818058, ..., -2.12451379,\n",
       "        -1.17505963, -0.99748363],\n",
       "       [ 3.03202385,  3.075287  ,  3.09287187, ...,  2.65576658,\n",
       "         0.90219538,  1.19283124],\n",
       "       [ 3.0192372 , -3.07055867, -2.85793588, ..., -2.91848602,\n",
       "         0.69995719,  0.54599447],\n",
       "       ...,\n",
       "       [-2.90440286, -2.98503266,  1.64690554, ...,  1.9556807 ,\n",
       "         1.8067733 ,  0.48377394],\n",
       "       [ 3.00307003,  3.03005256, -2.0956929 , ...,  2.38719404,\n",
       "        -2.05967405, -0.42708235],\n",
       "       [ 2.45531362,  2.50481928, -1.04700599, ..., -2.00674205,\n",
       "        -1.35323553, -1.7180784 ]], shape=(57, 89))"
      ]
     },
     "execution_count": 45,
     "metadata": {},
     "output_type": "execute_result"
    }
   ],
   "source": [
    "upslope_angle_geo.magnitude"
   ]
  },
  {
   "cell_type": "code",
   "execution_count": 107,
   "id": "45fc96f3",
   "metadata": {},
   "outputs": [
    {
     "data": {
      "text/plain": [
       "(np.float32(-3.141236), np.float32(3.1409469))"
      ]
     },
     "execution_count": 107,
     "metadata": {},
     "output_type": "execute_result"
    }
   ],
   "source": [
    "upslope_angle.min(), upslope_angle.max()"
   ]
  },
  {
   "cell_type": "code",
   "execution_count": 108,
   "id": "b0fa20cd",
   "metadata": {},
   "outputs": [],
   "source": [
    "upslope_degrees = np.degrees(upslope_angle)"
   ]
  },
  {
   "cell_type": "code",
   "execution_count": 109,
   "id": "b298a98f",
   "metadata": {},
   "outputs": [
    {
     "data": {
      "text/plain": [
       "(np.float32(-179.97955), np.float32(179.96298))"
      ]
     },
     "execution_count": 109,
     "metadata": {},
     "output_type": "execute_result"
    }
   ],
   "source": [
    "upslope_degrees.min(), upslope_degrees.max()"
   ]
  },
  {
   "cell_type": "code",
   "execution_count": 97,
   "id": "868b0c55",
   "metadata": {},
   "outputs": [],
   "source": [
    "from pint import Quantity"
   ]
  },
  {
   "cell_type": "code",
   "execution_count": null,
   "id": "c75b878d",
   "metadata": {},
   "outputs": [],
   "source": [
    "upslope_bearings = (\n",
    "    Quantity(90, \"degrees\") - np.degrees(upslope_angle)\n",
    ") % Quantity(360, \"degrees\")"
   ]
  },
  {
   "cell_type": "code",
   "execution_count": 111,
   "id": "5e2ac464",
   "metadata": {},
   "outputs": [],
   "source": [
    "upslope_bearings = (90 - np.degrees(upslope_angle)) % 360"
   ]
  },
  {
   "cell_type": "code",
   "execution_count": 112,
   "id": "a9377c5f",
   "metadata": {},
   "outputs": [
    {
     "data": {
      "text/plain": [
       "(np.float32(0.058921814), np.float32(359.94156))"
      ]
     },
     "execution_count": 112,
     "metadata": {},
     "output_type": "execute_result"
    }
   ],
   "source": [
    "upslope_bearings.min(), upslope_bearings.max()"
   ]
  },
  {
   "cell_type": "code",
   "execution_count": 25,
   "id": "f5c3f32b",
   "metadata": {},
   "outputs": [],
   "source": [
    "# calculate slope angle for a measure of terrain steepness\n",
    "# using slope magnitude as the hypotenuse of the gradient vector\n",
    "slope_magnitude = np.sqrt(dz_dx**2 + dz_dy**2)\n",
    "slope_angle = np.arctan(slope_magnitude)"
   ]
  },
  {
   "cell_type": "code",
   "execution_count": 26,
   "id": "b73f2177",
   "metadata": {},
   "outputs": [
    {
     "data": {
      "text/plain": [
       "(np.float32(9.260901e-07), np.float32(0.034376297))"
      ]
     },
     "execution_count": 26,
     "metadata": {},
     "output_type": "execute_result"
    }
   ],
   "source": [
    "slope_angle.min(), slope_angle.max()"
   ]
  },
  {
   "cell_type": "code",
   "execution_count": 27,
   "id": "bfe0094a",
   "metadata": {},
   "outputs": [],
   "source": [
    "# convert slope angle to degrees\n",
    "slope_angle = np.degrees(slope_angle)"
   ]
  },
  {
   "cell_type": "code",
   "execution_count": 28,
   "id": "ca9c431a",
   "metadata": {},
   "outputs": [
    {
     "data": {
      "text/plain": [
       "(np.float32(5.306105e-05), np.float32(1.9696167))"
      ]
     },
     "execution_count": 28,
     "metadata": {},
     "output_type": "execute_result"
    }
   ],
   "source": [
    "slope_angle.min(), slope_angle.max()"
   ]
  },
  {
   "cell_type": "code",
   "execution_count": null,
   "id": "581dd71e",
   "metadata": {},
   "outputs": [
    {
     "data": {
      "text/plain": [
       "np.float64(951.372760232305)"
      ]
     },
     "execution_count": 29,
     "metadata": {},
     "output_type": "execute_result"
    }
   ],
   "source": [
    "dy * np.tan(np.radians(1.9696167))"
   ]
  },
  {
   "cell_type": "code",
   "execution_count": 1,
   "id": "1bd76ce4",
   "metadata": {},
   "outputs": [],
   "source": [
    "import xarray as xr"
   ]
  },
  {
   "cell_type": "code",
   "execution_count": 78,
   "id": "53be08e7",
   "metadata": {},
   "outputs": [],
   "source": [
    "# load u and v wind components at 850 hPa (closest to ground)\n",
    "u_wind = xr.open_dataset(config.DATA_DIR / \"std\" / f\"uwnd_850_2014.nc\").squeeze(\n",
    "    dim=\"pressure_level\"\n",
    ")\n",
    "v_wind = xr.open_dataset(config.DATA_DIR / \"std\" / f\"vwnd_850_2014.nc\").squeeze(\n",
    "    dim=\"pressure_level\"\n",
    ")\n",
    "\n",
    "# perform batch indexing for u and v wind components\n",
    "group_lons = xr.DataArray(processed_df.iloc[:1000][\"lon\"].to_numpy())\n",
    "group_lats = xr.DataArray(processed_df.iloc[:1000][\"lat\"].to_numpy())\n",
    "group_timestamps = xr.DataArray(\n",
    "    processed_df.iloc[:1000][\"timestamp\"].to_numpy()\n",
    ")\n",
    "\n",
    "# calculate the wind angle at each point\n",
    "wind_angles = np.arctan2(\n",
    "    v_wind[\"vwnd\"]\n",
    "    .sel(\n",
    "        valid_time=group_timestamps,\n",
    "        latitude=group_lats,\n",
    "        longitude=group_lons,\n",
    "        method=\"nearest\",\n",
    "    )\n",
    "    .values,\n",
    "    u_wind[\"uwnd\"]\n",
    "    .sel(\n",
    "        valid_time=group_timestamps,\n",
    "        latitude=group_lats,\n",
    "        longitude=group_lons,\n",
    "        method=\"nearest\",\n",
    "    )\n",
    "    .values,\n",
    ")"
   ]
  },
  {
   "cell_type": "code",
   "execution_count": 79,
   "id": "49048174",
   "metadata": {},
   "outputs": [
    {
     "data": {
      "text/plain": [
       "(np.float32(-3.1369822), np.float32(3.118423))"
      ]
     },
     "execution_count": 79,
     "metadata": {},
     "output_type": "execute_result"
    }
   ],
   "source": [
    "wind_angles.min(), wind_angles.max()"
   ]
  },
  {
   "cell_type": "code",
   "execution_count": 82,
   "id": "7cea458e",
   "metadata": {},
   "outputs": [],
   "source": [
    "wind_bearings = (90 - np.degrees(wind_angles)) % 360"
   ]
  },
  {
   "cell_type": "code",
   "execution_count": 84,
   "id": "16860108",
   "metadata": {},
   "outputs": [
    {
     "data": {
      "text/plain": [
       "(np.float32(0.24340057), np.float32(359.305))"
      ]
     },
     "execution_count": 84,
     "metadata": {},
     "output_type": "execute_result"
    }
   ],
   "source": [
    "wind_bearings.min(), wind_bearings.max()"
   ]
  },
  {
   "cell_type": "code",
   "execution_count": 3,
   "id": "91051f9d",
   "metadata": {},
   "outputs": [],
   "source": [
    "year = 2014"
   ]
  },
  {
   "cell_type": "code",
   "execution_count": 4,
   "id": "301da70b",
   "metadata": {},
   "outputs": [],
   "source": [
    "# load u and v wind components for all pressure levels\n",
    "u_wind_850 = xr.open_dataset(\n",
    "    config.DATA_DIR / \"std\" / f\"uwnd_850_{year}.nc\"\n",
    ").squeeze(dim=\"pressure_level\")\n",
    "v_wind_850 = xr.open_dataset(\n",
    "    config.DATA_DIR / \"std\" / f\"vwnd_850_{year}.nc\"\n",
    ").squeeze(dim=\"pressure_level\")\n",
    "u_wind_500 = xr.open_dataset(\n",
    "    config.DATA_DIR / \"std\" / f\"uwnd_500_{year}.nc\"\n",
    ").squeeze(dim=\"pressure_level\")\n",
    "v_wind_500 = xr.open_dataset(\n",
    "    config.DATA_DIR / \"std\" / f\"vwnd_500_{year}.nc\"\n",
    ").squeeze(dim=\"pressure_level\")\n",
    "u_wind_200 = xr.open_dataset(\n",
    "    config.DATA_DIR / \"std\" / f\"uwnd_200_{year}.nc\"\n",
    ").squeeze(dim=\"pressure_level\")\n",
    "v_wind_200 = xr.open_dataset(\n",
    "    config.DATA_DIR / \"std\" / f\"vwnd_200_{year}.nc\"\n",
    ").squeeze(dim=\"pressure_level\")"
   ]
  },
  {
   "cell_type": "code",
   "execution_count": 8,
   "id": "c0fb8b44",
   "metadata": {},
   "outputs": [],
   "source": [
    "u_shear_850_500 = (u_wind_500[\"uwnd\"] - u_wind_850[\"uwnd\"]).to_dataset()\n",
    "v_shear_850_500 = (v_wind_500[\"vwnd\"] - v_wind_850[\"vwnd\"]).to_dataset()"
   ]
  },
  {
   "cell_type": "code",
   "execution_count": 12,
   "id": "f875bd77",
   "metadata": {},
   "outputs": [],
   "source": [
    "u_shear_850_200 = (u_wind_200[\"uwnd\"] - u_wind_850[\"uwnd\"]).to_dataset()\n",
    "v_shear_850_200 = (v_wind_200[\"vwnd\"] - v_wind_850[\"vwnd\"]).to_dataset()"
   ]
  },
  {
   "cell_type": "code",
   "execution_count": 10,
   "id": "072eba13",
   "metadata": {},
   "outputs": [
    {
     "data": {
      "text/html": [
       "<div><svg style=\"position: absolute; width: 0; height: 0; overflow: hidden\">\n",
       "<defs>\n",
       "<symbol id=\"icon-database\" viewBox=\"0 0 32 32\">\n",
       "<path d=\"M16 0c-8.837 0-16 2.239-16 5v4c0 2.761 7.163 5 16 5s16-2.239 16-5v-4c0-2.761-7.163-5-16-5z\"></path>\n",
       "<path d=\"M16 17c-8.837 0-16-2.239-16-5v6c0 2.761 7.163 5 16 5s16-2.239 16-5v-6c0 2.761-7.163 5-16 5z\"></path>\n",
       "<path d=\"M16 26c-8.837 0-16-2.239-16-5v6c0 2.761 7.163 5 16 5s16-2.239 16-5v-6c0 2.761-7.163 5-16 5z\"></path>\n",
       "</symbol>\n",
       "<symbol id=\"icon-file-text2\" viewBox=\"0 0 32 32\">\n",
       "<path d=\"M28.681 7.159c-0.694-0.947-1.662-2.053-2.724-3.116s-2.169-2.030-3.116-2.724c-1.612-1.182-2.393-1.319-2.841-1.319h-15.5c-1.378 0-2.5 1.121-2.5 2.5v27c0 1.378 1.122 2.5 2.5 2.5h23c1.378 0 2.5-1.122 2.5-2.5v-19.5c0-0.448-0.137-1.23-1.319-2.841zM24.543 5.457c0.959 0.959 1.712 1.825 2.268 2.543h-4.811v-4.811c0.718 0.556 1.584 1.309 2.543 2.268zM28 29.5c0 0.271-0.229 0.5-0.5 0.5h-23c-0.271 0-0.5-0.229-0.5-0.5v-27c0-0.271 0.229-0.5 0.5-0.5 0 0 15.499-0 15.5 0v7c0 0.552 0.448 1 1 1h7v19.5z\"></path>\n",
       "<path d=\"M23 26h-14c-0.552 0-1-0.448-1-1s0.448-1 1-1h14c0.552 0 1 0.448 1 1s-0.448 1-1 1z\"></path>\n",
       "<path d=\"M23 22h-14c-0.552 0-1-0.448-1-1s0.448-1 1-1h14c0.552 0 1 0.448 1 1s-0.448 1-1 1z\"></path>\n",
       "<path d=\"M23 18h-14c-0.552 0-1-0.448-1-1s0.448-1 1-1h14c0.552 0 1 0.448 1 1s-0.448 1-1 1z\"></path>\n",
       "</symbol>\n",
       "</defs>\n",
       "</svg>\n",
       "<style>/* CSS stylesheet for displaying xarray objects in jupyterlab.\n",
       " *\n",
       " */\n",
       "\n",
       ":root {\n",
       "  --xr-font-color0: var(\n",
       "    --jp-content-font-color0,\n",
       "    var(--pst-color-text-base rgba(0, 0, 0, 1))\n",
       "  );\n",
       "  --xr-font-color2: var(\n",
       "    --jp-content-font-color2,\n",
       "    var(--pst-color-text-base, rgba(0, 0, 0, 0.54))\n",
       "  );\n",
       "  --xr-font-color3: var(\n",
       "    --jp-content-font-color3,\n",
       "    var(--pst-color-text-base, rgba(0, 0, 0, 0.38))\n",
       "  );\n",
       "  --xr-border-color: var(\n",
       "    --jp-border-color2,\n",
       "    hsl(from var(--pst-color-on-background, white) h s calc(l - 10))\n",
       "  );\n",
       "  --xr-disabled-color: var(\n",
       "    --jp-layout-color3,\n",
       "    hsl(from var(--pst-color-on-background, white) h s calc(l - 40))\n",
       "  );\n",
       "  --xr-background-color: var(\n",
       "    --jp-layout-color0,\n",
       "    var(--pst-color-on-background, white)\n",
       "  );\n",
       "  --xr-background-color-row-even: var(\n",
       "    --jp-layout-color1,\n",
       "    hsl(from var(--pst-color-on-background, white) h s calc(l - 5))\n",
       "  );\n",
       "  --xr-background-color-row-odd: var(\n",
       "    --jp-layout-color2,\n",
       "    hsl(from var(--pst-color-on-background, white) h s calc(l - 15))\n",
       "  );\n",
       "}\n",
       "\n",
       "html[theme=\"dark\"],\n",
       "html[data-theme=\"dark\"],\n",
       "body[data-theme=\"dark\"],\n",
       "body.vscode-dark {\n",
       "  --xr-font-color0: var(\n",
       "    --jp-content-font-color0,\n",
       "    var(--pst-color-text-base, rgba(255, 255, 255, 1))\n",
       "  );\n",
       "  --xr-font-color2: var(\n",
       "    --jp-content-font-color2,\n",
       "    var(--pst-color-text-base, rgba(255, 255, 255, 0.54))\n",
       "  );\n",
       "  --xr-font-color3: var(\n",
       "    --jp-content-font-color3,\n",
       "    var(--pst-color-text-base, rgba(255, 255, 255, 0.38))\n",
       "  );\n",
       "  --xr-border-color: var(\n",
       "    --jp-border-color2,\n",
       "    hsl(from var(--pst-color-on-background, #111111) h s calc(l + 10))\n",
       "  );\n",
       "  --xr-disabled-color: var(\n",
       "    --jp-layout-color3,\n",
       "    hsl(from var(--pst-color-on-background, #111111) h s calc(l + 40))\n",
       "  );\n",
       "  --xr-background-color: var(\n",
       "    --jp-layout-color0,\n",
       "    var(--pst-color-on-background, #111111)\n",
       "  );\n",
       "  --xr-background-color-row-even: var(\n",
       "    --jp-layout-color1,\n",
       "    hsl(from var(--pst-color-on-background, #111111) h s calc(l + 5))\n",
       "  );\n",
       "  --xr-background-color-row-odd: var(\n",
       "    --jp-layout-color2,\n",
       "    hsl(from var(--pst-color-on-background, #111111) h s calc(l + 15))\n",
       "  );\n",
       "}\n",
       "\n",
       ".xr-wrap {\n",
       "  display: block !important;\n",
       "  min-width: 300px;\n",
       "  max-width: 700px;\n",
       "}\n",
       "\n",
       ".xr-text-repr-fallback {\n",
       "  /* fallback to plain text repr when CSS is not injected (untrusted notebook) */\n",
       "  display: none;\n",
       "}\n",
       "\n",
       ".xr-header {\n",
       "  padding-top: 6px;\n",
       "  padding-bottom: 6px;\n",
       "  margin-bottom: 4px;\n",
       "  border-bottom: solid 1px var(--xr-border-color);\n",
       "}\n",
       "\n",
       ".xr-header > div,\n",
       ".xr-header > ul {\n",
       "  display: inline;\n",
       "  margin-top: 0;\n",
       "  margin-bottom: 0;\n",
       "}\n",
       "\n",
       ".xr-obj-type,\n",
       ".xr-array-name {\n",
       "  margin-left: 2px;\n",
       "  margin-right: 10px;\n",
       "}\n",
       "\n",
       ".xr-obj-type {\n",
       "  color: var(--xr-font-color2);\n",
       "}\n",
       "\n",
       ".xr-sections {\n",
       "  padding-left: 0 !important;\n",
       "  display: grid;\n",
       "  grid-template-columns: 150px auto auto 1fr 0 20px 0 20px;\n",
       "}\n",
       "\n",
       ".xr-section-item {\n",
       "  display: contents;\n",
       "}\n",
       "\n",
       ".xr-section-item input {\n",
       "  display: inline-block;\n",
       "  opacity: 0;\n",
       "  height: 0;\n",
       "}\n",
       "\n",
       ".xr-section-item input + label {\n",
       "  color: var(--xr-disabled-color);\n",
       "  border: 2px solid transparent !important;\n",
       "}\n",
       "\n",
       ".xr-section-item input:enabled + label {\n",
       "  cursor: pointer;\n",
       "  color: var(--xr-font-color2);\n",
       "}\n",
       "\n",
       ".xr-section-item input:focus + label {\n",
       "  border: 2px solid var(--xr-font-color0) !important;\n",
       "}\n",
       "\n",
       ".xr-section-item input:enabled + label:hover {\n",
       "  color: var(--xr-font-color0);\n",
       "}\n",
       "\n",
       ".xr-section-summary {\n",
       "  grid-column: 1;\n",
       "  color: var(--xr-font-color2);\n",
       "  font-weight: 500;\n",
       "}\n",
       "\n",
       ".xr-section-summary > span {\n",
       "  display: inline-block;\n",
       "  padding-left: 0.5em;\n",
       "}\n",
       "\n",
       ".xr-section-summary-in:disabled + label {\n",
       "  color: var(--xr-font-color2);\n",
       "}\n",
       "\n",
       ".xr-section-summary-in + label:before {\n",
       "  display: inline-block;\n",
       "  content: \"►\";\n",
       "  font-size: 11px;\n",
       "  width: 15px;\n",
       "  text-align: center;\n",
       "}\n",
       "\n",
       ".xr-section-summary-in:disabled + label:before {\n",
       "  color: var(--xr-disabled-color);\n",
       "}\n",
       "\n",
       ".xr-section-summary-in:checked + label:before {\n",
       "  content: \"▼\";\n",
       "}\n",
       "\n",
       ".xr-section-summary-in:checked + label > span {\n",
       "  display: none;\n",
       "}\n",
       "\n",
       ".xr-section-summary,\n",
       ".xr-section-inline-details {\n",
       "  padding-top: 4px;\n",
       "  padding-bottom: 4px;\n",
       "}\n",
       "\n",
       ".xr-section-inline-details {\n",
       "  grid-column: 2 / -1;\n",
       "}\n",
       "\n",
       ".xr-section-details {\n",
       "  display: none;\n",
       "  grid-column: 1 / -1;\n",
       "  margin-bottom: 5px;\n",
       "}\n",
       "\n",
       ".xr-section-summary-in:checked ~ .xr-section-details {\n",
       "  display: contents;\n",
       "}\n",
       "\n",
       ".xr-array-wrap {\n",
       "  grid-column: 1 / -1;\n",
       "  display: grid;\n",
       "  grid-template-columns: 20px auto;\n",
       "}\n",
       "\n",
       ".xr-array-wrap > label {\n",
       "  grid-column: 1;\n",
       "  vertical-align: top;\n",
       "}\n",
       "\n",
       ".xr-preview {\n",
       "  color: var(--xr-font-color3);\n",
       "}\n",
       "\n",
       ".xr-array-preview,\n",
       ".xr-array-data {\n",
       "  padding: 0 5px !important;\n",
       "  grid-column: 2;\n",
       "}\n",
       "\n",
       ".xr-array-data,\n",
       ".xr-array-in:checked ~ .xr-array-preview {\n",
       "  display: none;\n",
       "}\n",
       "\n",
       ".xr-array-in:checked ~ .xr-array-data,\n",
       ".xr-array-preview {\n",
       "  display: inline-block;\n",
       "}\n",
       "\n",
       ".xr-dim-list {\n",
       "  display: inline-block !important;\n",
       "  list-style: none;\n",
       "  padding: 0 !important;\n",
       "  margin: 0;\n",
       "}\n",
       "\n",
       ".xr-dim-list li {\n",
       "  display: inline-block;\n",
       "  padding: 0;\n",
       "  margin: 0;\n",
       "}\n",
       "\n",
       ".xr-dim-list:before {\n",
       "  content: \"(\";\n",
       "}\n",
       "\n",
       ".xr-dim-list:after {\n",
       "  content: \")\";\n",
       "}\n",
       "\n",
       ".xr-dim-list li:not(:last-child):after {\n",
       "  content: \",\";\n",
       "  padding-right: 5px;\n",
       "}\n",
       "\n",
       ".xr-has-index {\n",
       "  font-weight: bold;\n",
       "}\n",
       "\n",
       ".xr-var-list,\n",
       ".xr-var-item {\n",
       "  display: contents;\n",
       "}\n",
       "\n",
       ".xr-var-item > div,\n",
       ".xr-var-item label,\n",
       ".xr-var-item > .xr-var-name span {\n",
       "  background-color: var(--xr-background-color-row-even);\n",
       "  border-color: var(--xr-background-color-row-odd);\n",
       "  margin-bottom: 0;\n",
       "  padding-top: 2px;\n",
       "}\n",
       "\n",
       ".xr-var-item > .xr-var-name:hover span {\n",
       "  padding-right: 5px;\n",
       "}\n",
       "\n",
       ".xr-var-list > li:nth-child(odd) > div,\n",
       ".xr-var-list > li:nth-child(odd) > label,\n",
       ".xr-var-list > li:nth-child(odd) > .xr-var-name span {\n",
       "  background-color: var(--xr-background-color-row-odd);\n",
       "  border-color: var(--xr-background-color-row-even);\n",
       "}\n",
       "\n",
       ".xr-var-name {\n",
       "  grid-column: 1;\n",
       "}\n",
       "\n",
       ".xr-var-dims {\n",
       "  grid-column: 2;\n",
       "}\n",
       "\n",
       ".xr-var-dtype {\n",
       "  grid-column: 3;\n",
       "  text-align: right;\n",
       "  color: var(--xr-font-color2);\n",
       "}\n",
       "\n",
       ".xr-var-preview {\n",
       "  grid-column: 4;\n",
       "}\n",
       "\n",
       ".xr-index-preview {\n",
       "  grid-column: 2 / 5;\n",
       "  color: var(--xr-font-color2);\n",
       "}\n",
       "\n",
       ".xr-var-name,\n",
       ".xr-var-dims,\n",
       ".xr-var-dtype,\n",
       ".xr-preview,\n",
       ".xr-attrs dt {\n",
       "  white-space: nowrap;\n",
       "  overflow: hidden;\n",
       "  text-overflow: ellipsis;\n",
       "  padding-right: 10px;\n",
       "}\n",
       "\n",
       ".xr-var-name:hover,\n",
       ".xr-var-dims:hover,\n",
       ".xr-var-dtype:hover,\n",
       ".xr-attrs dt:hover {\n",
       "  overflow: visible;\n",
       "  width: auto;\n",
       "  z-index: 1;\n",
       "}\n",
       "\n",
       ".xr-var-attrs,\n",
       ".xr-var-data,\n",
       ".xr-index-data {\n",
       "  display: none;\n",
       "  border-top: 2px dotted var(--xr-background-color);\n",
       "  padding-bottom: 20px !important;\n",
       "  padding-top: 10px !important;\n",
       "}\n",
       "\n",
       ".xr-var-attrs-in + label,\n",
       ".xr-var-data-in + label,\n",
       ".xr-index-data-in + label {\n",
       "  padding: 0 1px;\n",
       "}\n",
       "\n",
       ".xr-var-attrs-in:checked ~ .xr-var-attrs,\n",
       ".xr-var-data-in:checked ~ .xr-var-data,\n",
       ".xr-index-data-in:checked ~ .xr-index-data {\n",
       "  display: block;\n",
       "}\n",
       "\n",
       ".xr-var-data > table {\n",
       "  float: right;\n",
       "}\n",
       "\n",
       ".xr-var-data > pre,\n",
       ".xr-index-data > pre,\n",
       ".xr-var-data > table > tbody > tr {\n",
       "  background-color: transparent !important;\n",
       "}\n",
       "\n",
       ".xr-var-name span,\n",
       ".xr-var-data,\n",
       ".xr-index-name div,\n",
       ".xr-index-data,\n",
       ".xr-attrs {\n",
       "  padding-left: 25px !important;\n",
       "}\n",
       "\n",
       ".xr-attrs,\n",
       ".xr-var-attrs,\n",
       ".xr-var-data,\n",
       ".xr-index-data {\n",
       "  grid-column: 1 / -1;\n",
       "}\n",
       "\n",
       "dl.xr-attrs {\n",
       "  padding: 0;\n",
       "  margin: 0;\n",
       "  display: grid;\n",
       "  grid-template-columns: 125px auto;\n",
       "}\n",
       "\n",
       ".xr-attrs dt,\n",
       ".xr-attrs dd {\n",
       "  padding: 0;\n",
       "  margin: 0;\n",
       "  float: left;\n",
       "  padding-right: 10px;\n",
       "  width: auto;\n",
       "}\n",
       "\n",
       ".xr-attrs dt {\n",
       "  font-weight: normal;\n",
       "  grid-column: 1;\n",
       "}\n",
       "\n",
       ".xr-attrs dt:hover span {\n",
       "  display: inline-block;\n",
       "  background: var(--xr-background-color);\n",
       "  padding-right: 10px;\n",
       "}\n",
       "\n",
       ".xr-attrs dd {\n",
       "  grid-column: 2;\n",
       "  white-space: pre-wrap;\n",
       "  word-break: break-all;\n",
       "}\n",
       "\n",
       ".xr-icon-database,\n",
       ".xr-icon-file-text2,\n",
       ".xr-no-icon {\n",
       "  display: inline-block;\n",
       "  vertical-align: middle;\n",
       "  width: 1em;\n",
       "  height: 1.5em !important;\n",
       "  stroke-width: 0;\n",
       "  stroke: currentColor;\n",
       "  fill: currentColor;\n",
       "}\n",
       "\n",
       ".xr-var-attrs-in:checked + label > .xr-icon-file-text2,\n",
       ".xr-var-data-in:checked + label > .xr-icon-database,\n",
       ".xr-index-data-in:checked + label > .xr-icon-database {\n",
       "  color: var(--xr-font-color0);\n",
       "  filter: drop-shadow(1px 1px 5px var(--xr-font-color2));\n",
       "  stroke-width: 0.8px;\n",
       "}\n",
       "</style><pre class='xr-text-repr-fallback'>&lt;xarray.Dataset&gt; Size: 181MB\n",
       "Dimensions:     (valid_time: 8760, latitude: 58, longitude: 89)\n",
       "Coordinates:\n",
       "  * valid_time  (valid_time) datetime64[ns] 70kB 2014-01-01 ... 2014-12-31T23...\n",
       "  * latitude    (latitude) float64 464B 16.15 15.9 15.65 15.4 ... 2.4 2.15 1.9\n",
       "  * longitude   (longitude) float64 712B 31.0 31.25 31.5 ... 52.5 52.75 53.0\n",
       "Data variables:\n",
       "    uwnd        (valid_time, latitude, longitude) float32 181MB 11.04 ... -10.5</pre><div class='xr-wrap' style='display:none'><div class='xr-header'><div class='xr-obj-type'>xarray.Dataset</div></div><ul class='xr-sections'><li class='xr-section-item'><input id='section-eccbf99f-0157-479a-b39e-d47129961b6a' class='xr-section-summary-in' type='checkbox' disabled ><label for='section-eccbf99f-0157-479a-b39e-d47129961b6a' class='xr-section-summary'  title='Expand/collapse section'>Dimensions:</label><div class='xr-section-inline-details'><ul class='xr-dim-list'><li><span class='xr-has-index'>valid_time</span>: 8760</li><li><span class='xr-has-index'>latitude</span>: 58</li><li><span class='xr-has-index'>longitude</span>: 89</li></ul></div><div class='xr-section-details'></div></li><li class='xr-section-item'><input id='section-c07b8786-86e2-4b74-84cf-85d33e24e23e' class='xr-section-summary-in' type='checkbox'  checked><label for='section-c07b8786-86e2-4b74-84cf-85d33e24e23e' class='xr-section-summary' >Coordinates: <span>(3)</span></label><div class='xr-section-inline-details'></div><div class='xr-section-details'><ul class='xr-var-list'><li class='xr-var-item'><div class='xr-var-name'><span class='xr-has-index'>valid_time</span></div><div class='xr-var-dims'>(valid_time)</div><div class='xr-var-dtype'>datetime64[ns]</div><div class='xr-var-preview xr-preview'>2014-01-01 ... 2014-12-31T23:00:00</div><input id='attrs-c84d6826-44ff-4e26-8ced-0253e143db4d' class='xr-var-attrs-in' type='checkbox' ><label for='attrs-c84d6826-44ff-4e26-8ced-0253e143db4d' title='Show/Hide attributes'><svg class='icon xr-icon-file-text2'><use xlink:href='#icon-file-text2'></use></svg></label><input id='data-1886fbd6-1f13-490d-afd4-96d25440cc57' class='xr-var-data-in' type='checkbox'><label for='data-1886fbd6-1f13-490d-afd4-96d25440cc57' title='Show/Hide data repr'><svg class='icon xr-icon-database'><use xlink:href='#icon-database'></use></svg></label><div class='xr-var-attrs'><dl class='xr-attrs'><dt><span>axis :</span></dt><dd>T</dd><dt><span>standard_name :</span></dt><dd>time</dd><dt><span>long_name :</span></dt><dd>time</dd></dl></div><div class='xr-var-data'><pre>array([&#x27;2014-01-01T00:00:00.000000000&#x27;, &#x27;2014-01-01T01:00:00.000000000&#x27;,\n",
       "       &#x27;2014-01-01T02:00:00.000000000&#x27;, ..., &#x27;2014-12-31T21:00:00.000000000&#x27;,\n",
       "       &#x27;2014-12-31T22:00:00.000000000&#x27;, &#x27;2014-12-31T23:00:00.000000000&#x27;],\n",
       "      shape=(8760,), dtype=&#x27;datetime64[ns]&#x27;)</pre></div></li><li class='xr-var-item'><div class='xr-var-name'><span class='xr-has-index'>latitude</span></div><div class='xr-var-dims'>(latitude)</div><div class='xr-var-dtype'>float64</div><div class='xr-var-preview xr-preview'>16.15 15.9 15.65 ... 2.4 2.15 1.9</div><input id='attrs-421f8a33-c9d6-4ee6-88a3-22e5680f25fe' class='xr-var-attrs-in' type='checkbox' ><label for='attrs-421f8a33-c9d6-4ee6-88a3-22e5680f25fe' title='Show/Hide attributes'><svg class='icon xr-icon-file-text2'><use xlink:href='#icon-file-text2'></use></svg></label><input id='data-5cf0667a-4291-4301-a8c8-cd1bbf9ddb85' class='xr-var-data-in' type='checkbox'><label for='data-5cf0667a-4291-4301-a8c8-cd1bbf9ddb85' title='Show/Hide data repr'><svg class='icon xr-icon-database'><use xlink:href='#icon-database'></use></svg></label><div class='xr-var-attrs'><dl class='xr-attrs'><dt><span>axis :</span></dt><dd>Y</dd><dt><span>units :</span></dt><dd>degrees_north</dd><dt><span>standard_name :</span></dt><dd>latitude</dd><dt><span>long_name :</span></dt><dd>latitude</dd><dt><span>stored_direction :</span></dt><dd>decreasing</dd></dl></div><div class='xr-var-data'><pre>array([16.15, 15.9 , 15.65, 15.4 , 15.15, 14.9 , 14.65, 14.4 , 14.15, 13.9 ,\n",
       "       13.65, 13.4 , 13.15, 12.9 , 12.65, 12.4 , 12.15, 11.9 , 11.65, 11.4 ,\n",
       "       11.15, 10.9 , 10.65, 10.4 , 10.15,  9.9 ,  9.65,  9.4 ,  9.15,  8.9 ,\n",
       "        8.65,  8.4 ,  8.15,  7.9 ,  7.65,  7.4 ,  7.15,  6.9 ,  6.65,  6.4 ,\n",
       "        6.15,  5.9 ,  5.65,  5.4 ,  5.15,  4.9 ,  4.65,  4.4 ,  4.15,  3.9 ,\n",
       "        3.65,  3.4 ,  3.15,  2.9 ,  2.65,  2.4 ,  2.15,  1.9 ])</pre></div></li><li class='xr-var-item'><div class='xr-var-name'><span class='xr-has-index'>longitude</span></div><div class='xr-var-dims'>(longitude)</div><div class='xr-var-dtype'>float64</div><div class='xr-var-preview xr-preview'>31.0 31.25 31.5 ... 52.5 52.75 53.0</div><input id='attrs-7b3d9593-ab31-4d50-9100-50adb8caef2a' class='xr-var-attrs-in' type='checkbox' ><label for='attrs-7b3d9593-ab31-4d50-9100-50adb8caef2a' title='Show/Hide attributes'><svg class='icon xr-icon-file-text2'><use xlink:href='#icon-file-text2'></use></svg></label><input id='data-aac7aef7-2466-4a4c-9667-a81b3d32bd3c' class='xr-var-data-in' type='checkbox'><label for='data-aac7aef7-2466-4a4c-9667-a81b3d32bd3c' title='Show/Hide data repr'><svg class='icon xr-icon-database'><use xlink:href='#icon-database'></use></svg></label><div class='xr-var-attrs'><dl class='xr-attrs'><dt><span>axis :</span></dt><dd>X</dd><dt><span>units :</span></dt><dd>degrees_east</dd><dt><span>standard_name :</span></dt><dd>longitude</dd><dt><span>long_name :</span></dt><dd>longitude</dd></dl></div><div class='xr-var-data'><pre>array([31.  , 31.25, 31.5 , 31.75, 32.  , 32.25, 32.5 , 32.75, 33.  , 33.25,\n",
       "       33.5 , 33.75, 34.  , 34.25, 34.5 , 34.75, 35.  , 35.25, 35.5 , 35.75,\n",
       "       36.  , 36.25, 36.5 , 36.75, 37.  , 37.25, 37.5 , 37.75, 38.  , 38.25,\n",
       "       38.5 , 38.75, 39.  , 39.25, 39.5 , 39.75, 40.  , 40.25, 40.5 , 40.75,\n",
       "       41.  , 41.25, 41.5 , 41.75, 42.  , 42.25, 42.5 , 42.75, 43.  , 43.25,\n",
       "       43.5 , 43.75, 44.  , 44.25, 44.5 , 44.75, 45.  , 45.25, 45.5 , 45.75,\n",
       "       46.  , 46.25, 46.5 , 46.75, 47.  , 47.25, 47.5 , 47.75, 48.  , 48.25,\n",
       "       48.5 , 48.75, 49.  , 49.25, 49.5 , 49.75, 50.  , 50.25, 50.5 , 50.75,\n",
       "       51.  , 51.25, 51.5 , 51.75, 52.  , 52.25, 52.5 , 52.75, 53.  ])</pre></div></li></ul></div></li><li class='xr-section-item'><input id='section-84698a91-eb7a-4bf0-9751-5557ab4d95c9' class='xr-section-summary-in' type='checkbox'  checked><label for='section-84698a91-eb7a-4bf0-9751-5557ab4d95c9' class='xr-section-summary' >Data variables: <span>(1)</span></label><div class='xr-section-inline-details'></div><div class='xr-section-details'><ul class='xr-var-list'><li class='xr-var-item'><div class='xr-var-name'><span>uwnd</span></div><div class='xr-var-dims'>(valid_time, latitude, longitude)</div><div class='xr-var-dtype'>float32</div><div class='xr-var-preview xr-preview'>11.04 10.99 10.74 ... -10.52 -10.5</div><input id='attrs-a395cc67-c1cc-4cd4-8620-c23240a80fd9' class='xr-var-attrs-in' type='checkbox' disabled><label for='attrs-a395cc67-c1cc-4cd4-8620-c23240a80fd9' title='Show/Hide attributes'><svg class='icon xr-icon-file-text2'><use xlink:href='#icon-file-text2'></use></svg></label><input id='data-f14ef137-5aab-43ba-b258-b7812e836da7' class='xr-var-data-in' type='checkbox'><label for='data-f14ef137-5aab-43ba-b258-b7812e836da7' title='Show/Hide data repr'><svg class='icon xr-icon-database'><use xlink:href='#icon-database'></use></svg></label><div class='xr-var-attrs'><dl class='xr-attrs'></dl></div><div class='xr-var-data'><pre>array([[[ 1.10406952e+01,  1.09879608e+01,  1.07438202e+01, ...,\n",
       "          2.02408905e+01,  1.98258514e+01,  1.97330780e+01],\n",
       "        [ 1.10358124e+01,  1.08610077e+01,  1.05104218e+01, ...,\n",
       "          1.97711639e+01,  1.92916718e+01,  1.90143280e+01],\n",
       "        [ 1.08834686e+01,  1.06451874e+01,  1.02731171e+01, ...,\n",
       "          1.93248749e+01,  1.86705780e+01,  1.81578827e+01],\n",
       "        ...,\n",
       "        [-5.52375793e+00, -5.41926575e+00, -6.86848450e+00, ...,\n",
       "          2.35319519e+00,  1.42350769e+00,  5.91476440e-01],\n",
       "        [-5.01399231e+00, -5.02668762e+00, -6.42317200e+00, ...,\n",
       "          1.84440613e+00,  1.14909363e+00,  6.55929565e-01],\n",
       "        [-5.51203918e+00, -5.08918762e+00, -6.84114075e+00, ...,\n",
       "          1.42839050e+00,  1.00846863e+00,  8.88351440e-01]],\n",
       "\n",
       "       [[ 1.13310089e+01,  1.13993683e+01,  1.13642120e+01, ...,\n",
       "          1.92499542e+01,  1.87343292e+01,  1.88896027e+01],\n",
       "        [ 1.11845245e+01,  1.10585480e+01,  1.08476105e+01, ...,\n",
       "          1.91024933e+01,  1.83642120e+01,  1.82216339e+01],\n",
       "        [ 1.08603058e+01,  1.06337433e+01,  1.03671417e+01, ...,\n",
       "          1.87118683e+01,  1.77724152e+01,  1.73163605e+01],\n",
       "...\n",
       "         -1.05811005e+01, -1.04170380e+01, -1.03135223e+01],\n",
       "        [-1.01055145e+01, -1.10469208e+01, -1.21768036e+01, ...,\n",
       "         -1.06191864e+01, -1.05400848e+01, -1.04834442e+01],\n",
       "        [-1.06289520e+01, -1.08545380e+01, -1.29082489e+01, ...,\n",
       "         -1.06738739e+01, -1.06943817e+01, -1.07559052e+01]],\n",
       "\n",
       "       [[ 2.30984497e+00,  1.94070435e+00,  1.30105591e+00, ...,\n",
       "          1.58425903e+00,  2.24832153e+00,  2.40457153e+00],\n",
       "        [ 1.28347778e+00,  9.54376221e-01,  4.48516846e-01, ...,\n",
       "          1.51687622e+00,  1.77175903e+00,  1.65945435e+00],\n",
       "        [ 1.78985596e-01, -9.49096680e-03, -3.61053467e-01, ...,\n",
       "          1.63308716e+00,  1.37820435e+00,  1.02566528e+00],\n",
       "        ...,\n",
       "        [-1.09206238e+01, -1.11608582e+01, -1.15866394e+01, ...,\n",
       "         -1.05251160e+01, -1.03171082e+01, -1.01462097e+01],\n",
       "        [-9.34152222e+00, -1.00456238e+01, -1.10173035e+01, ...,\n",
       "         -1.05348816e+01, -1.04137878e+01, -1.02907410e+01],\n",
       "        [-9.76437378e+00, -9.65695190e+00, -1.13473816e+01, ...,\n",
       "         -1.05407410e+01, -1.05153503e+01, -1.04967957e+01]]],\n",
       "      shape=(8760, 58, 89), dtype=float32)</pre></div></li></ul></div></li><li class='xr-section-item'><input id='section-073b0a51-8b1b-4fa5-bd7d-ac008e3d9218' class='xr-section-summary-in' type='checkbox'  ><label for='section-073b0a51-8b1b-4fa5-bd7d-ac008e3d9218' class='xr-section-summary' >Indexes: <span>(3)</span></label><div class='xr-section-inline-details'></div><div class='xr-section-details'><ul class='xr-var-list'><li class='xr-var-item'><div class='xr-index-name'><div>valid_time</div></div><div class='xr-index-preview'>PandasIndex</div><input type='checkbox' disabled/><label></label><input id='index-1555faf4-5153-429e-9fe0-39824236fc76' class='xr-index-data-in' type='checkbox'/><label for='index-1555faf4-5153-429e-9fe0-39824236fc76' title='Show/Hide index repr'><svg class='icon xr-icon-database'><use xlink:href='#icon-database'></use></svg></label><div class='xr-index-data'><pre>PandasIndex(DatetimeIndex([&#x27;2014-01-01 00:00:00&#x27;, &#x27;2014-01-01 01:00:00&#x27;,\n",
       "               &#x27;2014-01-01 02:00:00&#x27;, &#x27;2014-01-01 03:00:00&#x27;,\n",
       "               &#x27;2014-01-01 04:00:00&#x27;, &#x27;2014-01-01 05:00:00&#x27;,\n",
       "               &#x27;2014-01-01 06:00:00&#x27;, &#x27;2014-01-01 07:00:00&#x27;,\n",
       "               &#x27;2014-01-01 08:00:00&#x27;, &#x27;2014-01-01 09:00:00&#x27;,\n",
       "               ...\n",
       "               &#x27;2014-12-31 14:00:00&#x27;, &#x27;2014-12-31 15:00:00&#x27;,\n",
       "               &#x27;2014-12-31 16:00:00&#x27;, &#x27;2014-12-31 17:00:00&#x27;,\n",
       "               &#x27;2014-12-31 18:00:00&#x27;, &#x27;2014-12-31 19:00:00&#x27;,\n",
       "               &#x27;2014-12-31 20:00:00&#x27;, &#x27;2014-12-31 21:00:00&#x27;,\n",
       "               &#x27;2014-12-31 22:00:00&#x27;, &#x27;2014-12-31 23:00:00&#x27;],\n",
       "              dtype=&#x27;datetime64[ns]&#x27;, name=&#x27;valid_time&#x27;, length=8760, freq=None))</pre></div></li><li class='xr-var-item'><div class='xr-index-name'><div>latitude</div></div><div class='xr-index-preview'>PandasIndex</div><input type='checkbox' disabled/><label></label><input id='index-fb6a10f4-983c-46d3-880a-7c2054b55095' class='xr-index-data-in' type='checkbox'/><label for='index-fb6a10f4-983c-46d3-880a-7c2054b55095' title='Show/Hide index repr'><svg class='icon xr-icon-database'><use xlink:href='#icon-database'></use></svg></label><div class='xr-index-data'><pre>PandasIndex(Index([             16.15, 15.899999999999999, 15.649999999999999,\n",
       "       15.399999999999999, 15.149999999999999, 14.899999999999999,\n",
       "       14.649999999999999, 14.399999999999999, 14.149999999999999,\n",
       "       13.899999999999999, 13.649999999999999, 13.399999999999999,\n",
       "       13.149999999999999, 12.899999999999999, 12.649999999999999,\n",
       "       12.399999999999999, 12.149999999999999, 11.899999999999999,\n",
       "       11.649999999999999, 11.399999999999999, 11.149999999999999,\n",
       "       10.899999999999999, 10.649999999999999, 10.399999999999999,\n",
       "       10.149999999999999,  9.899999999999999,  9.649999999999999,\n",
       "        9.399999999999999,  9.149999999999999,  8.899999999999999,\n",
       "        8.649999999999999,  8.399999999999999,  8.149999999999999,\n",
       "        7.899999999999999,  7.649999999999999,  7.399999999999999,\n",
       "        7.149999999999999,  6.899999999999999,  6.649999999999999,\n",
       "        6.399999999999999,  6.149999999999999,  5.899999999999999,\n",
       "        5.649999999999999,  5.399999999999999,  5.149999999999999,\n",
       "        4.899999999999999,  4.649999999999999,  4.399999999999999,\n",
       "        4.149999999999999, 3.8999999999999986, 3.6499999999999986,\n",
       "       3.3999999999999986, 3.1499999999999986, 2.8999999999999986,\n",
       "       2.6499999999999986, 2.3999999999999986, 2.1499999999999986,\n",
       "       1.8999999999999986],\n",
       "      dtype=&#x27;float64&#x27;, name=&#x27;latitude&#x27;))</pre></div></li><li class='xr-var-item'><div class='xr-index-name'><div>longitude</div></div><div class='xr-index-preview'>PandasIndex</div><input type='checkbox' disabled/><label></label><input id='index-1fd64c1b-0fdc-4d58-af9c-33c3258cc536' class='xr-index-data-in' type='checkbox'/><label for='index-1fd64c1b-0fdc-4d58-af9c-33c3258cc536' title='Show/Hide index repr'><svg class='icon xr-icon-database'><use xlink:href='#icon-database'></use></svg></label><div class='xr-index-data'><pre>PandasIndex(Index([ 31.0, 31.25,  31.5, 31.75,  32.0, 32.25,  32.5, 32.75,  33.0, 33.25,\n",
       "        33.5, 33.75,  34.0, 34.25,  34.5, 34.75,  35.0, 35.25,  35.5, 35.75,\n",
       "        36.0, 36.25,  36.5, 36.75,  37.0, 37.25,  37.5, 37.75,  38.0, 38.25,\n",
       "        38.5, 38.75,  39.0, 39.25,  39.5, 39.75,  40.0, 40.25,  40.5, 40.75,\n",
       "        41.0, 41.25,  41.5, 41.75,  42.0, 42.25,  42.5, 42.75,  43.0, 43.25,\n",
       "        43.5, 43.75,  44.0, 44.25,  44.5, 44.75,  45.0, 45.25,  45.5, 45.75,\n",
       "        46.0, 46.25,  46.5, 46.75,  47.0, 47.25,  47.5, 47.75,  48.0, 48.25,\n",
       "        48.5, 48.75,  49.0, 49.25,  49.5, 49.75,  50.0, 50.25,  50.5, 50.75,\n",
       "        51.0, 51.25,  51.5, 51.75,  52.0, 52.25,  52.5, 52.75,  53.0],\n",
       "      dtype=&#x27;float64&#x27;, name=&#x27;longitude&#x27;))</pre></div></li></ul></div></li><li class='xr-section-item'><input id='section-7c28cf47-83f9-42e8-bbf1-8904f5fb8f25' class='xr-section-summary-in' type='checkbox' disabled ><label for='section-7c28cf47-83f9-42e8-bbf1-8904f5fb8f25' class='xr-section-summary'  title='Expand/collapse section'>Attributes: <span>(0)</span></label><div class='xr-section-inline-details'></div><div class='xr-section-details'><dl class='xr-attrs'></dl></div></li></ul></div></div>"
      ],
      "text/plain": [
       "<xarray.Dataset> Size: 181MB\n",
       "Dimensions:     (valid_time: 8760, latitude: 58, longitude: 89)\n",
       "Coordinates:\n",
       "  * valid_time  (valid_time) datetime64[ns] 70kB 2014-01-01 ... 2014-12-31T23...\n",
       "  * latitude    (latitude) float64 464B 16.15 15.9 15.65 15.4 ... 2.4 2.15 1.9\n",
       "  * longitude   (longitude) float64 712B 31.0 31.25 31.5 ... 52.5 52.75 53.0\n",
       "Data variables:\n",
       "    uwnd        (valid_time, latitude, longitude) float32 181MB 11.04 ... -10.5"
      ]
     },
     "execution_count": 10,
     "metadata": {},
     "output_type": "execute_result"
    }
   ],
   "source": [
    "u_shear_850_500"
   ]
  },
  {
   "cell_type": "code",
   "execution_count": 13,
   "id": "fce2eef4",
   "metadata": {},
   "outputs": [
    {
     "data": {
      "text/plain": [
       "<matplotlib.contour.QuadContourSet at 0x7fd26462e490>"
      ]
     },
     "execution_count": 13,
     "metadata": {},
     "output_type": "execute_result"
    },
    {
     "data": {
      "image/png": "[encoded data removed]",
      "text/plain": [
       "<Figure size 640x480 with 2 Axes>"
      ]
     },
     "metadata": {},
     "output_type": "display_data"
    }
   ],
   "source": [
    "u_shear_850_200[\"uwnd\"].isel(valid_time=0).plot.contourf()"
   ]
  },
  {
   "cell_type": "code",
   "execution_count": null,
   "id": "90295c1f",
   "metadata": {},
   "outputs": [],
   "source": []
  }
 ],
 "metadata": {
  "kernelspec": {
   "display_name": "Python 3",
   "language": "python",
   "name": "python3"
  },
  "language_info": {
   "codemirror_mode": {
    "name": "ipython",
    "version": 3
   },
   "file_extension": ".py",
   "mimetype": "text/x-python",
   "name": "python",
   "nbconvert_exporter": "python",
   "pygments_lexer": "ipython3",
   "version": "3.13.5"
  }
 },
 "nbformat": 4,
 "nbformat_minor": 5
}
