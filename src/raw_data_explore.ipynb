{
 "cells": [
  {
   "cell_type": "code",
   "execution_count": null,
   "id": "1a6c1b85",
   "metadata": {},
   "outputs": [],
   "source": [
    "import pandas as pd\n",
    "\n",
    "import config"
   ]
  },
  {
   "cell_type": "code",
   "execution_count": null,
   "id": "b3e3fcf3",
   "metadata": {},
   "outputs": [],
   "source": [
    "raw_df = pd.read_csv(config.RAW_STORM_DB_PATH)"
   ]
  },
  {
   "cell_type": "code",
   "execution_count": null,
   "id": "ab0f67d3",
   "metadata": {},
   "outputs": [
    {
     "data": {
      "text/plain": [
       "Index(['Storm', 'Life', 'Area', 'Initial UTC', 'Lon', 'Lat', 'Parent', 'Child',\n",
       "       'Accreted', 'u', 'v', 'in_gha', 'gpm_mean', 'gpm_max', 'gpm_frac',\n",
       "       'gpm_perc90', 'Min BT', 'Mean BT', 'Final UTC', 'timestamp',\n",
       "       'mjo_amplitude', 'mjo_phase', 'rmm1', 'rmm2', 'lst', 'u_ms', 'v_ms',\n",
       "       'LonInBounds', 'LatInBounds', 'in_domain', 'areaxgpm_mean', 'duration',\n",
       "       'duration_hr', 'speed', 'mean_speed', 'east_africa_time', 'eat_hours'],\n",
       "      dtype='object')"
      ]
     },
     "execution_count": 13,
     "metadata": {},
     "output_type": "execute_result"
    }
   ],
   "source": [
    "raw_df.columns"
   ]
  },
  {
   "cell_type": "code",
   "execution_count": null,
   "id": "5324010c",
   "metadata": {},
   "outputs": [
    {
     "data": {
      "text/html": [
       "<div>\n",
       "<style scoped>\n",
       "    .dataframe tbody tr th:only-of-type {\n",
       "        vertical-align: middle;\n",
       "    }\n",
       "\n",
       "    .dataframe tbody tr th {\n",
       "        vertical-align: top;\n",
       "    }\n",
       "\n",
       "    .dataframe thead th {\n",
       "        text-align: right;\n",
       "    }\n",
       "</style>\n",
       "<table border=\"1\" class=\"dataframe\">\n",
       "  <thead>\n",
       "    <tr style=\"text-align: right;\">\n",
       "      <th></th>\n",
       "      <th>Initial UTC</th>\n",
       "      <th>Final UTC</th>\n",
       "      <th>timestamp</th>\n",
       "      <th>east_africa_time</th>\n",
       "    </tr>\n",
       "  </thead>\n",
       "  <tbody>\n",
       "    <tr>\n",
       "      <th>0</th>\n",
       "      <td>2014-01-02 14:15:00</td>\n",
       "      <td>2014-01-02 17:30:00</td>\n",
       "      <td>2014-01-02 14:15:00</td>\n",
       "      <td>2014-01-02 17:15:00</td>\n",
       "    </tr>\n",
       "    <tr>\n",
       "      <th>1</th>\n",
       "      <td>2014-01-02 14:15:00</td>\n",
       "      <td>2014-01-02 17:30:00</td>\n",
       "      <td>2014-01-02 14:30:00</td>\n",
       "      <td>2014-01-02 17:30:00</td>\n",
       "    </tr>\n",
       "    <tr>\n",
       "      <th>2</th>\n",
       "      <td>2014-01-02 14:15:00</td>\n",
       "      <td>2014-01-02 17:30:00</td>\n",
       "      <td>2014-01-02 14:45:00</td>\n",
       "      <td>2014-01-02 17:45:00</td>\n",
       "    </tr>\n",
       "    <tr>\n",
       "      <th>3</th>\n",
       "      <td>2014-01-02 14:15:00</td>\n",
       "      <td>2014-01-02 17:30:00</td>\n",
       "      <td>2014-01-02 15:00:00</td>\n",
       "      <td>2014-01-02 18:00:00</td>\n",
       "    </tr>\n",
       "    <tr>\n",
       "      <th>4</th>\n",
       "      <td>2014-01-02 14:15:00</td>\n",
       "      <td>2014-01-02 17:30:00</td>\n",
       "      <td>2014-01-02 15:15:00</td>\n",
       "      <td>2014-01-02 18:15:00</td>\n",
       "    </tr>\n",
       "  </tbody>\n",
       "</table>\n",
       "</div>"
      ],
      "text/plain": [
       "           Initial UTC            Final UTC            timestamp  \\\n",
       "0  2014-01-02 14:15:00  2014-01-02 17:30:00  2014-01-02 14:15:00   \n",
       "1  2014-01-02 14:15:00  2014-01-02 17:30:00  2014-01-02 14:30:00   \n",
       "2  2014-01-02 14:15:00  2014-01-02 17:30:00  2014-01-02 14:45:00   \n",
       "3  2014-01-02 14:15:00  2014-01-02 17:30:00  2014-01-02 15:00:00   \n",
       "4  2014-01-02 14:15:00  2014-01-02 17:30:00  2014-01-02 15:15:00   \n",
       "\n",
       "      east_africa_time  \n",
       "0  2014-01-02 17:15:00  \n",
       "1  2014-01-02 17:30:00  \n",
       "2  2014-01-02 17:45:00  \n",
       "3  2014-01-02 18:00:00  \n",
       "4  2014-01-02 18:15:00  "
      ]
     },
     "execution_count": 14,
     "metadata": {},
     "output_type": "execute_result"
    }
   ],
   "source": [
    "raw_df[[\"Initial UTC\", \"Final UTC\", \"timestamp\", \"east_africa_time\"]].head()"
   ]
  },
  {
   "cell_type": "code",
   "execution_count": null,
   "id": "48966325",
   "metadata": {},
   "outputs": [
    {
     "name": "stdout",
     "output_type": "stream",
     "text": [
      "<class 'pandas.core.frame.DataFrame'>\n",
      "RangeIndex: 588915 entries, 0 to 588914\n",
      "Data columns (total 37 columns):\n",
      " #   Column            Non-Null Count   Dtype  \n",
      "---  ------            --------------   -----  \n",
      " 0   Storm             588915 non-null  int64  \n",
      " 1   Life              588915 non-null  int64  \n",
      " 2   Area              588915 non-null  int64  \n",
      " 3   Initial UTC       588915 non-null  object \n",
      " 4   Lon               588915 non-null  float64\n",
      " 5   Lat               588915 non-null  float64\n",
      " 6   Parent            588915 non-null  object \n",
      " 7   Child             588915 non-null  object \n",
      " 8   Accreted          588915 non-null  object \n",
      " 9   u                 588915 non-null  float64\n",
      " 10  v                 588915 non-null  float64\n",
      " 11  in_gha            588915 non-null  bool   \n",
      " 12  gpm_mean          151233 non-null  float64\n",
      " 13  gpm_max           151233 non-null  float64\n",
      " 14  gpm_frac          151233 non-null  float64\n",
      " 15  gpm_perc90        151233 non-null  float64\n",
      " 16  Min BT            588915 non-null  float64\n",
      " 17  Mean BT           588915 non-null  float64\n",
      " 18  Final UTC         588915 non-null  object \n",
      " 19  timestamp         588915 non-null  object \n",
      " 20  mjo_amplitude     588915 non-null  float64\n",
      " 21  mjo_phase         588915 non-null  int64  \n",
      " 22  rmm1              588915 non-null  float64\n",
      " 23  rmm2              588915 non-null  float64\n",
      " 24  lst               588915 non-null  float64\n",
      " 25  u_ms              588915 non-null  float64\n",
      " 26  v_ms              588915 non-null  float64\n",
      " 27  LonInBounds       588915 non-null  bool   \n",
      " 28  LatInBounds       588915 non-null  bool   \n",
      " 29  in_domain         588915 non-null  bool   \n",
      " 30  areaxgpm_mean     151233 non-null  float64\n",
      " 31  duration          588915 non-null  object \n",
      " 32  duration_hr       588915 non-null  float64\n",
      " 33  speed             588915 non-null  float64\n",
      " 34  mean_speed        588915 non-null  float64\n",
      " 35  east_africa_time  588915 non-null  object \n",
      " 36  eat_hours         588915 non-null  float64\n",
      "dtypes: bool(4), float64(21), int64(4), object(8)\n",
      "memory usage: 150.5+ MB\n"
     ]
    }
   ],
   "source": [
    "raw_df.info()"
   ]
  },
  {
   "cell_type": "code",
   "execution_count": null,
   "id": "65f80841",
   "metadata": {},
   "outputs": [
    {
     "data": {
      "text/plain": [
       "np.float64(0.7432006316701052)"
      ]
     },
     "execution_count": 16,
     "metadata": {},
     "output_type": "execute_result"
    }
   ],
   "source": [
    "raw_df[\"gpm_mean\"].isna().sum() / raw_df.shape[0]"
   ]
  },
  {
   "cell_type": "code",
   "execution_count": null,
   "id": "a215db8e",
   "metadata": {},
   "outputs": [],
   "source": [
    "processed_df = pd.read_csv(\n",
    "    config.PROCESSED_DATASET_PATH, parse_dates=[\"timestamp\"]\n",
    ")"
   ]
  },
  {
   "cell_type": "code",
   "execution_count": null,
   "id": "0df3e0e2",
   "metadata": {},
   "outputs": [],
   "source": [
    "raw_df[\"timestamp\"] = pd.to_datetime(raw_df[\"timestamp\"])"
   ]
  },
  {
   "cell_type": "code",
   "execution_count": null,
   "id": "0f7527b5",
   "metadata": {},
   "outputs": [],
   "source": [
    "comparison_df = raw_df.merge(\n",
    "    processed_df,\n",
    "    left_on=[\"timestamp\"],\n",
    "    right_on=[\"timestamp\"],\n",
    "    how=\"inner\",\n",
    ")"
   ]
  },
  {
   "cell_type": "code",
   "execution_count": null,
   "id": "3e953863",
   "metadata": {},
   "outputs": [
    {
     "data": {
      "text/html": [
       "<div>\n",
       "<style scoped>\n",
       "    .dataframe tbody tr th:only-of-type {\n",
       "        vertical-align: middle;\n",
       "    }\n",
       "\n",
       "    .dataframe tbody tr th {\n",
       "        vertical-align: top;\n",
       "    }\n",
       "\n",
       "    .dataframe thead th {\n",
       "        text-align: right;\n",
       "    }\n",
       "</style>\n",
       "<table border=\"1\" class=\"dataframe\">\n",
       "  <thead>\n",
       "    <tr style=\"text-align: right;\">\n",
       "      <th></th>\n",
       "      <th>timestamp</th>\n",
       "      <th>gpm_mean</th>\n",
       "      <th>areaxgpm_mean</th>\n",
       "      <th>mean_prcp_400</th>\n",
       "    </tr>\n",
       "  </thead>\n",
       "  <tbody>\n",
       "    <tr>\n",
       "      <th>0</th>\n",
       "      <td>2014-01-02 14:15:00</td>\n",
       "      <td>NaN</td>\n",
       "      <td>NaN</td>\n",
       "      <td>0.013373</td>\n",
       "    </tr>\n",
       "    <tr>\n",
       "      <th>1</th>\n",
       "      <td>2014-01-02 14:30:00</td>\n",
       "      <td>1.731000</td>\n",
       "      <td>69.239998</td>\n",
       "      <td>0.013495</td>\n",
       "    </tr>\n",
       "    <tr>\n",
       "      <th>2</th>\n",
       "      <td>2014-01-02 14:45:00</td>\n",
       "      <td>1.181923</td>\n",
       "      <td>61.460004</td>\n",
       "      <td>0.013495</td>\n",
       "    </tr>\n",
       "    <tr>\n",
       "      <th>3</th>\n",
       "      <td>2014-01-02 15:00:00</td>\n",
       "      <td>NaN</td>\n",
       "      <td>NaN</td>\n",
       "      <td>0.012096</td>\n",
       "    </tr>\n",
       "    <tr>\n",
       "      <th>4</th>\n",
       "      <td>2014-01-02 15:15:00</td>\n",
       "      <td>NaN</td>\n",
       "      <td>NaN</td>\n",
       "      <td>0.008016</td>\n",
       "    </tr>\n",
       "  </tbody>\n",
       "</table>\n",
       "</div>"
      ],
      "text/plain": [
       "            timestamp  gpm_mean  areaxgpm_mean  mean_prcp_400\n",
       "0 2014-01-02 14:15:00       NaN            NaN       0.013373\n",
       "1 2014-01-02 14:30:00  1.731000      69.239998       0.013495\n",
       "2 2014-01-02 14:45:00  1.181923      61.460004       0.013495\n",
       "3 2014-01-02 15:00:00       NaN            NaN       0.012096\n",
       "4 2014-01-02 15:15:00       NaN            NaN       0.008016"
      ]
     },
     "execution_count": 20,
     "metadata": {},
     "output_type": "execute_result"
    }
   ],
   "source": [
    "comparison_df[\n",
    "    [\"timestamp\", \"gpm_mean\", \"areaxgpm_mean\", \"mean_prcp_400\"]\n",
    "].head()"
   ]
  },
  {
   "cell_type": "code",
   "execution_count": null,
   "id": "6249dae7",
   "metadata": {},
   "outputs": [
    {
     "data": {
      "text/html": [
       "<div>\n",
       "<style scoped>\n",
       "    .dataframe tbody tr th:only-of-type {\n",
       "        vertical-align: middle;\n",
       "    }\n",
       "\n",
       "    .dataframe tbody tr th {\n",
       "        vertical-align: top;\n",
       "    }\n",
       "\n",
       "    .dataframe thead th {\n",
       "        text-align: right;\n",
       "    }\n",
       "</style>\n",
       "<table border=\"1\" class=\"dataframe\">\n",
       "  <thead>\n",
       "    <tr style=\"text-align: right;\">\n",
       "      <th></th>\n",
       "      <th>gpm_mean</th>\n",
       "      <th>areaxgpm_mean</th>\n",
       "      <th>mean_prcp_400</th>\n",
       "    </tr>\n",
       "  </thead>\n",
       "  <tbody>\n",
       "    <tr>\n",
       "      <th>count</th>\n",
       "      <td>1.161220e+06</td>\n",
       "      <td>1.161220e+06</td>\n",
       "      <td>4.433703e+06</td>\n",
       "    </tr>\n",
       "    <tr>\n",
       "      <th>mean</th>\n",
       "      <td>1.247863e+00</td>\n",
       "      <td>6.332686e+02</td>\n",
       "      <td>2.112992e-01</td>\n",
       "    </tr>\n",
       "    <tr>\n",
       "      <th>std</th>\n",
       "      <td>1.475018e+00</td>\n",
       "      <td>1.776981e+03</td>\n",
       "      <td>1.848503e-01</td>\n",
       "    </tr>\n",
       "    <tr>\n",
       "      <th>min</th>\n",
       "      <td>0.000000e+00</td>\n",
       "      <td>0.000000e+00</td>\n",
       "      <td>0.000000e+00</td>\n",
       "    </tr>\n",
       "    <tr>\n",
       "      <th>25%</th>\n",
       "      <td>1.061682e-01</td>\n",
       "      <td>1.116000e+01</td>\n",
       "      <td>6.742303e-02</td>\n",
       "    </tr>\n",
       "    <tr>\n",
       "      <th>50%</th>\n",
       "      <td>8.207318e-01</td>\n",
       "      <td>1.165700e+02</td>\n",
       "      <td>1.632198e-01</td>\n",
       "    </tr>\n",
       "    <tr>\n",
       "      <th>75%</th>\n",
       "      <td>1.833333e+00</td>\n",
       "      <td>5.000400e+02</td>\n",
       "      <td>3.068353e-01</td>\n",
       "    </tr>\n",
       "    <tr>\n",
       "      <th>max</th>\n",
       "      <td>2.795210e+01</td>\n",
       "      <td>7.866785e+04</td>\n",
       "      <td>1.820828e+00</td>\n",
       "    </tr>\n",
       "  </tbody>\n",
       "</table>\n",
       "</div>"
      ],
      "text/plain": [
       "           gpm_mean  areaxgpm_mean  mean_prcp_400\n",
       "count  1.161220e+06   1.161220e+06   4.433703e+06\n",
       "mean   1.247863e+00   6.332686e+02   2.112992e-01\n",
       "std    1.475018e+00   1.776981e+03   1.848503e-01\n",
       "min    0.000000e+00   0.000000e+00   0.000000e+00\n",
       "25%    1.061682e-01   1.116000e+01   6.742303e-02\n",
       "50%    8.207318e-01   1.165700e+02   1.632198e-01\n",
       "75%    1.833333e+00   5.000400e+02   3.068353e-01\n",
       "max    2.795210e+01   7.866785e+04   1.820828e+00"
      ]
     },
     "execution_count": 23,
     "metadata": {},
     "output_type": "execute_result"
    }
   ],
   "source": [
    "comparison_df[[\"gpm_mean\", \"areaxgpm_mean\", \"mean_prcp_400\"]].describe()"
   ]
  },
  {
   "cell_type": "code",
   "execution_count": null,
   "id": "623307dd",
   "metadata": {},
   "outputs": [],
   "source": []
  }
 ],
 "metadata": {
  "kernelspec": {
   "display_name": "Python 3",
   "language": "python",
   "name": "python3"
  },
  "language_info": {
   "codemirror_mode": {
    "name": "ipython",
    "version": 3
   },
   "file_extension": ".py",
   "mimetype": "text/x-python",
   "name": "python",
   "nbconvert_exporter": "python",
   "pygments_lexer": "ipython3",
   "version": "3.13.5"
  }
 },
 "nbformat": 4,
 "nbformat_minor": 5
}
