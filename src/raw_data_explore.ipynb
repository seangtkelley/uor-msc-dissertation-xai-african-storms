{
 "cells": [
  {
   "cell_type": "code",
   "execution_count": 2,
   "id": "1a6c1b85",
   "metadata": {},
   "outputs": [],
   "source": [
    "import pandas as pd\n",
    "\n",
    "import config"
   ]
  },
  {
   "cell_type": "code",
   "execution_count": 3,
   "id": "b3e3fcf3",
   "metadata": {},
   "outputs": [],
   "source": [
    "df = pd.read_csv(config.RAW_STORM_DB_PATH)"
   ]
  },
  {
   "cell_type": "code",
   "execution_count": 4,
   "id": "ab0f67d3",
   "metadata": {},
   "outputs": [
    {
     "data": {
      "text/plain": [
       "Index(['Storm', 'Life', 'Area', 'Initial UTC', 'Lon', 'Lat', 'Parent', 'Child',\n",
       "       'Accreted', 'u', 'v', 'in_gha', 'gpm_mean', 'gpm_max', 'gpm_frac',\n",
       "       'gpm_perc90', 'Min BT', 'Mean BT', 'Final UTC', 'timestamp',\n",
       "       'mjo_amplitude', 'mjo_phase', 'rmm1', 'rmm2', 'lst', 'u_ms', 'v_ms',\n",
       "       'LonInBounds', 'LatInBounds', 'in_domain', 'areaxgpm_mean', 'duration',\n",
       "       'duration_hr', 'speed', 'mean_speed', 'east_africa_time', 'eat_hours'],\n",
       "      dtype='object')"
      ]
     },
     "execution_count": 4,
     "metadata": {},
     "output_type": "execute_result"
    }
   ],
   "source": [
    "df.columns"
   ]
  },
  {
   "cell_type": "code",
   "execution_count": 5,
   "id": "5324010c",
   "metadata": {},
   "outputs": [
    {
     "data": {
      "text/html": [
       "<div>\n",
       "<style scoped>\n",
       "    .dataframe tbody tr th:only-of-type {\n",
       "        vertical-align: middle;\n",
       "    }\n",
       "\n",
       "    .dataframe tbody tr th {\n",
       "        vertical-align: top;\n",
       "    }\n",
       "\n",
       "    .dataframe thead th {\n",
       "        text-align: right;\n",
       "    }\n",
       "</style>\n",
       "<table border=\"1\" class=\"dataframe\">\n",
       "  <thead>\n",
       "    <tr style=\"text-align: right;\">\n",
       "      <th></th>\n",
       "      <th>Initial UTC</th>\n",
       "      <th>Final UTC</th>\n",
       "      <th>timestamp</th>\n",
       "      <th>east_africa_time</th>\n",
       "    </tr>\n",
       "  </thead>\n",
       "  <tbody>\n",
       "    <tr>\n",
       "      <th>0</th>\n",
       "      <td>2014-01-02 14:15:00</td>\n",
       "      <td>2014-01-02 17:30:00</td>\n",
       "      <td>2014-01-02 14:15:00</td>\n",
       "      <td>2014-01-02 17:15:00</td>\n",
       "    </tr>\n",
       "    <tr>\n",
       "      <th>1</th>\n",
       "      <td>2014-01-02 14:15:00</td>\n",
       "      <td>2014-01-02 17:30:00</td>\n",
       "      <td>2014-01-02 14:30:00</td>\n",
       "      <td>2014-01-02 17:30:00</td>\n",
       "    </tr>\n",
       "    <tr>\n",
       "      <th>2</th>\n",
       "      <td>2014-01-02 14:15:00</td>\n",
       "      <td>2014-01-02 17:30:00</td>\n",
       "      <td>2014-01-02 14:45:00</td>\n",
       "      <td>2014-01-02 17:45:00</td>\n",
       "    </tr>\n",
       "    <tr>\n",
       "      <th>3</th>\n",
       "      <td>2014-01-02 14:15:00</td>\n",
       "      <td>2014-01-02 17:30:00</td>\n",
       "      <td>2014-01-02 15:00:00</td>\n",
       "      <td>2014-01-02 18:00:00</td>\n",
       "    </tr>\n",
       "    <tr>\n",
       "      <th>4</th>\n",
       "      <td>2014-01-02 14:15:00</td>\n",
       "      <td>2014-01-02 17:30:00</td>\n",
       "      <td>2014-01-02 15:15:00</td>\n",
       "      <td>2014-01-02 18:15:00</td>\n",
       "    </tr>\n",
       "  </tbody>\n",
       "</table>\n",
       "</div>"
      ],
      "text/plain": [
       "           Initial UTC            Final UTC            timestamp  \\\n",
       "0  2014-01-02 14:15:00  2014-01-02 17:30:00  2014-01-02 14:15:00   \n",
       "1  2014-01-02 14:15:00  2014-01-02 17:30:00  2014-01-02 14:30:00   \n",
       "2  2014-01-02 14:15:00  2014-01-02 17:30:00  2014-01-02 14:45:00   \n",
       "3  2014-01-02 14:15:00  2014-01-02 17:30:00  2014-01-02 15:00:00   \n",
       "4  2014-01-02 14:15:00  2014-01-02 17:30:00  2014-01-02 15:15:00   \n",
       "\n",
       "      east_africa_time  \n",
       "0  2014-01-02 17:15:00  \n",
       "1  2014-01-02 17:30:00  \n",
       "2  2014-01-02 17:45:00  \n",
       "3  2014-01-02 18:00:00  \n",
       "4  2014-01-02 18:15:00  "
      ]
     },
     "execution_count": 5,
     "metadata": {},
     "output_type": "execute_result"
    }
   ],
   "source": [
    "df[[\"Initial UTC\", \"Final UTC\", \"timestamp\", \"east_africa_time\"]].head()"
   ]
  },
  {
   "cell_type": "code",
   "execution_count": 6,
   "id": "48966325",
   "metadata": {},
   "outputs": [
    {
     "name": "stdout",
     "output_type": "stream",
     "text": [
      "<class 'pandas.core.frame.DataFrame'>\n",
      "RangeIndex: 588915 entries, 0 to 588914\n",
      "Data columns (total 37 columns):\n",
      " #   Column            Non-Null Count   Dtype  \n",
      "---  ------            --------------   -----  \n",
      " 0   Storm             588915 non-null  int64  \n",
      " 1   Life              588915 non-null  int64  \n",
      " 2   Area              588915 non-null  int64  \n",
      " 3   Initial UTC       588915 non-null  object \n",
      " 4   Lon               588915 non-null  float64\n",
      " 5   Lat               588915 non-null  float64\n",
      " 6   Parent            588915 non-null  object \n",
      " 7   Child             588915 non-null  object \n",
      " 8   Accreted          588915 non-null  object \n",
      " 9   u                 588915 non-null  float64\n",
      " 10  v                 588915 non-null  float64\n",
      " 11  in_gha            588915 non-null  bool   \n",
      " 12  gpm_mean          151233 non-null  float64\n",
      " 13  gpm_max           151233 non-null  float64\n",
      " 14  gpm_frac          151233 non-null  float64\n",
      " 15  gpm_perc90        151233 non-null  float64\n",
      " 16  Min BT            588915 non-null  float64\n",
      " 17  Mean BT           588915 non-null  float64\n",
      " 18  Final UTC         588915 non-null  object \n",
      " 19  timestamp         588915 non-null  object \n",
      " 20  mjo_amplitude     588915 non-null  float64\n",
      " 21  mjo_phase         588915 non-null  int64  \n",
      " 22  rmm1              588915 non-null  float64\n",
      " 23  rmm2              588915 non-null  float64\n",
      " 24  lst               588915 non-null  float64\n",
      " 25  u_ms              588915 non-null  float64\n",
      " 26  v_ms              588915 non-null  float64\n",
      " 27  LonInBounds       588915 non-null  bool   \n",
      " 28  LatInBounds       588915 non-null  bool   \n",
      " 29  in_domain         588915 non-null  bool   \n",
      " 30  areaxgpm_mean     151233 non-null  float64\n",
      " 31  duration          588915 non-null  object \n",
      " 32  duration_hr       588915 non-null  float64\n",
      " 33  speed             588915 non-null  float64\n",
      " 34  mean_speed        588915 non-null  float64\n",
      " 35  east_africa_time  588915 non-null  object \n",
      " 36  eat_hours         588915 non-null  float64\n",
      "dtypes: bool(4), float64(21), int64(4), object(8)\n",
      "memory usage: 150.5+ MB\n"
     ]
    }
   ],
   "source": [
    "df.info()"
   ]
  },
  {
   "cell_type": "code",
   "execution_count": 7,
   "id": "65f80841",
   "metadata": {},
   "outputs": [
    {
     "data": {
      "text/plain": [
       "np.float64(0.7432006316701052)"
      ]
     },
     "execution_count": 7,
     "metadata": {},
     "output_type": "execute_result"
    }
   ],
   "source": [
    "df[\"gpm_mean\"].isna().sum() / df.shape[0]"
   ]
  },
  {
   "cell_type": "code",
   "execution_count": 8,
   "id": "94748a30",
   "metadata": {},
   "outputs": [
    {
     "data": {
      "text/html": [
       "<div>\n",
       "<style scoped>\n",
       "    .dataframe tbody tr th:only-of-type {\n",
       "        vertical-align: middle;\n",
       "    }\n",
       "\n",
       "    .dataframe tbody tr th {\n",
       "        vertical-align: top;\n",
       "    }\n",
       "\n",
       "    .dataframe thead th {\n",
       "        text-align: right;\n",
       "    }\n",
       "</style>\n",
       "<table border=\"1\" class=\"dataframe\">\n",
       "  <thead>\n",
       "    <tr style=\"text-align: right;\">\n",
       "      <th></th>\n",
       "      <th>Storm</th>\n",
       "      <th>Min BT</th>\n",
       "      <th>Mean BT</th>\n",
       "    </tr>\n",
       "  </thead>\n",
       "  <tbody>\n",
       "    <tr>\n",
       "      <th>0</th>\n",
       "      <td>3992</td>\n",
       "      <td>212.28</td>\n",
       "      <td>221.51</td>\n",
       "    </tr>\n",
       "    <tr>\n",
       "      <th>1</th>\n",
       "      <td>3992</td>\n",
       "      <td>212.31</td>\n",
       "      <td>220.28</td>\n",
       "    </tr>\n",
       "    <tr>\n",
       "      <th>2</th>\n",
       "      <td>3992</td>\n",
       "      <td>213.57</td>\n",
       "      <td>221.67</td>\n",
       "    </tr>\n",
       "    <tr>\n",
       "      <th>3</th>\n",
       "      <td>3992</td>\n",
       "      <td>217.24</td>\n",
       "      <td>223.31</td>\n",
       "    </tr>\n",
       "    <tr>\n",
       "      <th>4</th>\n",
       "      <td>3992</td>\n",
       "      <td>218.79</td>\n",
       "      <td>224.48</td>\n",
       "    </tr>\n",
       "  </tbody>\n",
       "</table>\n",
       "</div>"
      ],
      "text/plain": [
       "   Storm  Min BT  Mean BT\n",
       "0   3992  212.28   221.51\n",
       "1   3992  212.31   220.28\n",
       "2   3992  213.57   221.67\n",
       "3   3992  217.24   223.31\n",
       "4   3992  218.79   224.48"
      ]
     },
     "execution_count": 8,
     "metadata": {},
     "output_type": "execute_result"
    }
   ],
   "source": [
    "df[[\"Storm\", \"Min BT\", \"Mean BT\"]].head()"
   ]
  },
  {
   "cell_type": "code",
   "execution_count": null,
   "id": "a215db8e",
   "metadata": {},
   "outputs": [],
   "source": []
  }
 ],
 "metadata": {
  "kernelspec": {
   "display_name": "uor-msc-dissertation-xai-african-storms",
   "language": "python",
   "name": "python3"
  },
  "language_info": {
   "codemirror_mode": {
    "name": "ipython",
    "version": 3
   },
   "file_extension": ".py",
   "mimetype": "text/x-python",
   "name": "python",
   "nbconvert_exporter": "python",
   "pygments_lexer": "ipython3",
   "version": "3.13.5"
  }
 },
 "nbformat": 4,
 "nbformat_minor": 5
}
