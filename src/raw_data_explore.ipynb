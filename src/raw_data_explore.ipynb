{
 "cells": [
  {
   "cell_type": "code",
   "execution_count": null,
   "id": "1a6c1b85",
   "metadata": {},
   "outputs": [],
   "source": [
    "import pandas as pd\n",
    "\n",
    "import config"
   ]
  },
  {
   "cell_type": "code",
   "execution_count": null,
   "id": "b3e3fcf3",
   "metadata": {},
   "outputs": [],
   "source": [
    "df = pd.read_csv(config.RAW_STORM_DB_PATH)"
   ]
  },
  {
   "cell_type": "code",
   "execution_count": null,
   "id": "ab0f67d3",
   "metadata": {},
   "outputs": [
    {
     "data": {
      "text/plain": [
       "Index(['Storm', 'Life', 'Area', 'Initial UTC', 'Lon', 'Lat', 'Parent', 'Child',\n",
       "       'Accreted', 'u', 'v', 'in_gha', 'gpm_mean', 'gpm_max', 'gpm_frac',\n",
       "       'gpm_perc90', 'Min BT', 'Mean BT', 'Final UTC', 'timestamp',\n",
       "       'mjo_amplitude', 'mjo_phase', 'rmm1', 'rmm2', 'lst', 'u_ms', 'v_ms',\n",
       "       'LonInBounds', 'LatInBounds', 'in_domain', 'areaxgpm_mean', 'duration',\n",
       "       'duration_hr', 'speed', 'mean_speed', 'east_africa_time', 'eat_hours'],\n",
       "      dtype='object')"
      ]
     },
     "execution_count": 7,
     "metadata": {},
     "output_type": "execute_result"
    }
   ],
   "source": [
    "df.columns"
   ]
  },
  {
   "cell_type": "code",
   "execution_count": 6,
   "id": "5324010c",
   "metadata": {},
   "outputs": [
    {
     "data": {
      "text/html": [
       "<div>\n",
       "<style scoped>\n",
       "    .dataframe tbody tr th:only-of-type {\n",
       "        vertical-align: middle;\n",
       "    }\n",
       "\n",
       "    .dataframe tbody tr th {\n",
       "        vertical-align: top;\n",
       "    }\n",
       "\n",
       "    .dataframe thead th {\n",
       "        text-align: right;\n",
       "    }\n",
       "</style>\n",
       "<table border=\"1\" class=\"dataframe\">\n",
       "  <thead>\n",
       "    <tr style=\"text-align: right;\">\n",
       "      <th></th>\n",
       "      <th>Initial UTC</th>\n",
       "      <th>Final UTC</th>\n",
       "      <th>timestamp</th>\n",
       "      <th>east_africa_time</th>\n",
       "    </tr>\n",
       "  </thead>\n",
       "  <tbody>\n",
       "    <tr>\n",
       "      <th>0</th>\n",
       "      <td>2014-01-02 14:15:00</td>\n",
       "      <td>2014-01-02 17:30:00</td>\n",
       "      <td>2014-01-02 14:15:00</td>\n",
       "      <td>2014-01-02 17:15:00</td>\n",
       "    </tr>\n",
       "    <tr>\n",
       "      <th>1</th>\n",
       "      <td>2014-01-02 14:15:00</td>\n",
       "      <td>2014-01-02 17:30:00</td>\n",
       "      <td>2014-01-02 14:30:00</td>\n",
       "      <td>2014-01-02 17:30:00</td>\n",
       "    </tr>\n",
       "    <tr>\n",
       "      <th>2</th>\n",
       "      <td>2014-01-02 14:15:00</td>\n",
       "      <td>2014-01-02 17:30:00</td>\n",
       "      <td>2014-01-02 14:45:00</td>\n",
       "      <td>2014-01-02 17:45:00</td>\n",
       "    </tr>\n",
       "    <tr>\n",
       "      <th>3</th>\n",
       "      <td>2014-01-02 14:15:00</td>\n",
       "      <td>2014-01-02 17:30:00</td>\n",
       "      <td>2014-01-02 15:00:00</td>\n",
       "      <td>2014-01-02 18:00:00</td>\n",
       "    </tr>\n",
       "    <tr>\n",
       "      <th>4</th>\n",
       "      <td>2014-01-02 14:15:00</td>\n",
       "      <td>2014-01-02 17:30:00</td>\n",
       "      <td>2014-01-02 15:15:00</td>\n",
       "      <td>2014-01-02 18:15:00</td>\n",
       "    </tr>\n",
       "  </tbody>\n",
       "</table>\n",
       "</div>"
      ],
      "text/plain": [
       "           Initial UTC            Final UTC            timestamp  \\\n",
       "0  2014-01-02 14:15:00  2014-01-02 17:30:00  2014-01-02 14:15:00   \n",
       "1  2014-01-02 14:15:00  2014-01-02 17:30:00  2014-01-02 14:30:00   \n",
       "2  2014-01-02 14:15:00  2014-01-02 17:30:00  2014-01-02 14:45:00   \n",
       "3  2014-01-02 14:15:00  2014-01-02 17:30:00  2014-01-02 15:00:00   \n",
       "4  2014-01-02 14:15:00  2014-01-02 17:30:00  2014-01-02 15:15:00   \n",
       "\n",
       "      east_africa_time  \n",
       "0  2014-01-02 17:15:00  \n",
       "1  2014-01-02 17:30:00  \n",
       "2  2014-01-02 17:45:00  \n",
       "3  2014-01-02 18:00:00  \n",
       "4  2014-01-02 18:15:00  "
      ]
     },
     "execution_count": 6,
     "metadata": {},
     "output_type": "execute_result"
    }
   ],
   "source": [
    "df[[\"Initial UTC\", \"Final UTC\", \"timestamp\", \"east_africa_time\"]].head()"
   ]
  },
  {
   "cell_type": "code",
   "execution_count": null,
   "id": "48966325",
   "metadata": {},
   "outputs": [],
   "source": []
  }
 ],
 "metadata": {
  "kernelspec": {
   "display_name": "Python 3",
   "language": "python",
   "name": "python3"
  },
  "language_info": {
   "codemirror_mode": {
    "name": "ipython",
    "version": 3
   },
   "file_extension": ".py",
   "mimetype": "text/x-python",
   "name": "python",
   "nbconvert_exporter": "python",
   "pygments_lexer": "ipython3",
   "version": "3.13.5"
  }
 },
 "nbformat": 4,
 "nbformat_minor": 5
}
