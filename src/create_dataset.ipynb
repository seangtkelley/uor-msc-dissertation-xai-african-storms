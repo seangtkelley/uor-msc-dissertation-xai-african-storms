{
 "cells": [
  {
   "cell_type": "code",
   "execution_count": null,
   "id": "f70348fe",
   "metadata": {},
   "outputs": [],
   "source": [
    "import pandas as pd\n",
    "import xarray as xr\n",
    "from metpy.calc import geopotential_to_height\n",
    "from metpy.units import units\n",
    "\n",
    "import config\n",
    "from utils import processing"
   ]
  },
  {
   "cell_type": "code",
   "execution_count": null,
   "id": "08c03fcc",
   "metadata": {},
   "outputs": [],
   "source": [
    "df = pd.read_csv(config.RAW_STORM_DB_PATH)\n",
    "df.head()"
   ]
  },
  {
   "cell_type": "code",
   "execution_count": null,
   "id": "7dab9d4f",
   "metadata": {},
   "outputs": [],
   "source": [
    "df = processing.rename_columns(df, column_map=config.COL_RENAME_MAP)"
   ]
  },
  {
   "cell_type": "code",
   "execution_count": null,
   "id": "7b3d91b5",
   "metadata": {},
   "outputs": [],
   "source": [
    "df = processing.get_era5_indices_for_coords(\n",
    "    df, era5_lons=config.ERA5_LONS, era5_lats=config.ERA5_LATS\n",
    ")"
   ]
  },
  {
   "cell_type": "code",
   "execution_count": null,
   "id": "39ac2e43",
   "metadata": {},
   "outputs": [],
   "source": [
    "# load geopotential data and convert to height\n",
    "geop = xr.open_dataset(config.DATA_DIR / \"std\" / \"geop.nc\")\n",
    "geop_vals = geop[\"geop\"].values.squeeze()\n",
    "# source: https://unidata.github.io/MetPy/latest/api/generated/metpy.calc.geopotential_to_height.html#metpy.calc.geopotential_to_height\n",
    "geop_units = units.Quantity(geop_vals, \"m^2/s^2\")\n",
    "height = geopotential_to_height(geop_units)\n",
    "\n",
    "# load subgrid oro angle data\n",
    "anor = xr.open_dataset(config.DATA_DIR / \"std\" / \"anor.nc\")\n",
    "\n",
    "df = processing.get_orography_features(df, height, anor)"
   ]
  },
  {
   "cell_type": "code",
   "execution_count": null,
   "id": "6054cf50",
   "metadata": {},
   "outputs": [],
   "source": [
    "# select only the columns that are in the config\n",
    "df = df[[col for col in config.FEATURE_COL_NAMES if col in df.columns]]"
   ]
  },
  {
   "cell_type": "code",
   "execution_count": null,
   "id": "49f919d9",
   "metadata": {},
   "outputs": [],
   "source": [
    "df.to_csv(config.PROCESSED_DATASET_PATH, index=False)"
   ]
  }
 ],
 "metadata": {
  "language_info": {
   "name": "python"
  }
 },
 "nbformat": 4,
 "nbformat_minor": 5
}
